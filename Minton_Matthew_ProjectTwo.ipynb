{
  "nbformat": 4,
  "nbformat_minor": 0,
  "metadata": {
    "colab": {
      "provenance": [],
      "gpuType": "T4"
    },
    "kernelspec": {
      "name": "python3",
      "display_name": "Python 3"
    },
    "language_info": {
      "name": "python"
    },
    "accelerator": "GPU"
  },
  "cells": [
    {
      "cell_type": "markdown",
      "source": [
        "# **Treasure Hunt Game Notebook**\n",
        "## **Read and Review Your Starter Code**\n",
        "The theme of this project is a popular treasure hunt game in which the player needs to find the treasure before the pirate does. While you will not be developing the entire game, you will write the part of the game that represents the intelligent agent, which is a pirate in this case. The pirate will try to find the optimal path to the treasure using deep Q-learning.\n",
        "\n",
        "You have been provided with two Python classes and this notebook to help you with this assignment. The first class, TreasureMaze.py, represents the environment, which includes a maze object defined as a matrix. The second class, GameExperience.py, stores the episodes – that is, all the states that come in between the initial state and the terminal state. This is later used by the agent for learning by experience, called \"exploration\". This notebook shows how to play a game. Your task is to complete the deep Q-learning implementation in the qtrain() function for which a skeleton implementation has been provided.\n",
        "\n",
        "The code block you will need to complete has #TODO as a header.\n",
        "\n",
        "First, read and review the next few code and instruction blocks to understand the code that you have been given.\n",
        "\n",
        "Installations The following command will install the necessary Python libraries to necessary to run this application. If you see a \"[notice] A new release of pip is available: 23.1.2 -> 25.2\" at the end of the installation, you may disregard that statement."
      ],
      "metadata": {
        "id": "ZSY8cDRhCIH6"
      }
    },
    {
      "cell_type": "code",
      "execution_count": 1,
      "metadata": {
        "colab": {
          "base_uri": "https://localhost:8080/"
        },
        "id": "ZWC4UP5D0oMz",
        "outputId": "139ce834-be30-4b65-fe05-6439b376c5d4"
      },
      "outputs": [
        {
          "output_type": "stream",
          "name": "stdout",
          "text": [
            "Requirement already satisfied: numpy==1.26.4 in /usr/local/lib/python3.12/dist-packages (from -r requirements.txt (line 1)) (1.26.4)\n",
            "Requirement already satisfied: keras in /usr/local/lib/python3.12/dist-packages (from -r requirements.txt (line 2)) (3.10.0)\n",
            "Requirement already satisfied: tensorflow==2.19.0 in /usr/local/lib/python3.12/dist-packages (from -r requirements.txt (line 3)) (2.19.0)\n",
            "Requirement already satisfied: absl-py>=1.0.0 in /usr/local/lib/python3.12/dist-packages (from tensorflow==2.19.0->-r requirements.txt (line 3)) (1.4.0)\n",
            "Requirement already satisfied: astunparse>=1.6.0 in /usr/local/lib/python3.12/dist-packages (from tensorflow==2.19.0->-r requirements.txt (line 3)) (1.6.3)\n",
            "Requirement already satisfied: flatbuffers>=24.3.25 in /usr/local/lib/python3.12/dist-packages (from tensorflow==2.19.0->-r requirements.txt (line 3)) (25.9.23)\n",
            "Requirement already satisfied: gast!=0.5.0,!=0.5.1,!=0.5.2,>=0.2.1 in /usr/local/lib/python3.12/dist-packages (from tensorflow==2.19.0->-r requirements.txt (line 3)) (0.6.0)\n",
            "Requirement already satisfied: google-pasta>=0.1.1 in /usr/local/lib/python3.12/dist-packages (from tensorflow==2.19.0->-r requirements.txt (line 3)) (0.2.0)\n",
            "Requirement already satisfied: libclang>=13.0.0 in /usr/local/lib/python3.12/dist-packages (from tensorflow==2.19.0->-r requirements.txt (line 3)) (18.1.1)\n",
            "Requirement already satisfied: opt-einsum>=2.3.2 in /usr/local/lib/python3.12/dist-packages (from tensorflow==2.19.0->-r requirements.txt (line 3)) (3.4.0)\n",
            "Requirement already satisfied: packaging in /usr/local/lib/python3.12/dist-packages (from tensorflow==2.19.0->-r requirements.txt (line 3)) (25.0)\n",
            "Requirement already satisfied: protobuf!=4.21.0,!=4.21.1,!=4.21.2,!=4.21.3,!=4.21.4,!=4.21.5,<6.0.0dev,>=3.20.3 in /usr/local/lib/python3.12/dist-packages (from tensorflow==2.19.0->-r requirements.txt (line 3)) (5.29.5)\n",
            "Requirement already satisfied: requests<3,>=2.21.0 in /usr/local/lib/python3.12/dist-packages (from tensorflow==2.19.0->-r requirements.txt (line 3)) (2.32.4)\n",
            "Requirement already satisfied: setuptools in /usr/local/lib/python3.12/dist-packages (from tensorflow==2.19.0->-r requirements.txt (line 3)) (75.2.0)\n",
            "Requirement already satisfied: six>=1.12.0 in /usr/local/lib/python3.12/dist-packages (from tensorflow==2.19.0->-r requirements.txt (line 3)) (1.17.0)\n",
            "Requirement already satisfied: termcolor>=1.1.0 in /usr/local/lib/python3.12/dist-packages (from tensorflow==2.19.0->-r requirements.txt (line 3)) (3.1.0)\n",
            "Requirement already satisfied: typing-extensions>=3.6.6 in /usr/local/lib/python3.12/dist-packages (from tensorflow==2.19.0->-r requirements.txt (line 3)) (4.15.0)\n",
            "Requirement already satisfied: wrapt>=1.11.0 in /usr/local/lib/python3.12/dist-packages (from tensorflow==2.19.0->-r requirements.txt (line 3)) (1.17.3)\n",
            "Requirement already satisfied: grpcio<2.0,>=1.24.3 in /usr/local/lib/python3.12/dist-packages (from tensorflow==2.19.0->-r requirements.txt (line 3)) (1.75.1)\n",
            "Requirement already satisfied: tensorboard~=2.19.0 in /usr/local/lib/python3.12/dist-packages (from tensorflow==2.19.0->-r requirements.txt (line 3)) (2.19.0)\n",
            "Requirement already satisfied: h5py>=3.11.0 in /usr/local/lib/python3.12/dist-packages (from tensorflow==2.19.0->-r requirements.txt (line 3)) (3.14.0)\n",
            "Requirement already satisfied: ml-dtypes<1.0.0,>=0.5.1 in /usr/local/lib/python3.12/dist-packages (from tensorflow==2.19.0->-r requirements.txt (line 3)) (0.5.3)\n",
            "Requirement already satisfied: rich in /usr/local/lib/python3.12/dist-packages (from keras->-r requirements.txt (line 2)) (13.9.4)\n",
            "Requirement already satisfied: namex in /usr/local/lib/python3.12/dist-packages (from keras->-r requirements.txt (line 2)) (0.1.0)\n",
            "Requirement already satisfied: optree in /usr/local/lib/python3.12/dist-packages (from keras->-r requirements.txt (line 2)) (0.17.0)\n",
            "Requirement already satisfied: wheel<1.0,>=0.23.0 in /usr/local/lib/python3.12/dist-packages (from astunparse>=1.6.0->tensorflow==2.19.0->-r requirements.txt (line 3)) (0.45.1)\n",
            "Requirement already satisfied: charset_normalizer<4,>=2 in /usr/local/lib/python3.12/dist-packages (from requests<3,>=2.21.0->tensorflow==2.19.0->-r requirements.txt (line 3)) (3.4.3)\n",
            "Requirement already satisfied: idna<4,>=2.5 in /usr/local/lib/python3.12/dist-packages (from requests<3,>=2.21.0->tensorflow==2.19.0->-r requirements.txt (line 3)) (3.10)\n",
            "Requirement already satisfied: urllib3<3,>=1.21.1 in /usr/local/lib/python3.12/dist-packages (from requests<3,>=2.21.0->tensorflow==2.19.0->-r requirements.txt (line 3)) (2.5.0)\n",
            "Requirement already satisfied: certifi>=2017.4.17 in /usr/local/lib/python3.12/dist-packages (from requests<3,>=2.21.0->tensorflow==2.19.0->-r requirements.txt (line 3)) (2025.8.3)\n",
            "Requirement already satisfied: markdown>=2.6.8 in /usr/local/lib/python3.12/dist-packages (from tensorboard~=2.19.0->tensorflow==2.19.0->-r requirements.txt (line 3)) (3.9)\n",
            "Requirement already satisfied: tensorboard-data-server<0.8.0,>=0.7.0 in /usr/local/lib/python3.12/dist-packages (from tensorboard~=2.19.0->tensorflow==2.19.0->-r requirements.txt (line 3)) (0.7.2)\n",
            "Requirement already satisfied: werkzeug>=1.0.1 in /usr/local/lib/python3.12/dist-packages (from tensorboard~=2.19.0->tensorflow==2.19.0->-r requirements.txt (line 3)) (3.1.3)\n",
            "Requirement already satisfied: markdown-it-py>=2.2.0 in /usr/local/lib/python3.12/dist-packages (from rich->keras->-r requirements.txt (line 2)) (4.0.0)\n",
            "Requirement already satisfied: pygments<3.0.0,>=2.13.0 in /usr/local/lib/python3.12/dist-packages (from rich->keras->-r requirements.txt (line 2)) (2.19.2)\n",
            "Requirement already satisfied: mdurl~=0.1 in /usr/local/lib/python3.12/dist-packages (from markdown-it-py>=2.2.0->rich->keras->-r requirements.txt (line 2)) (0.1.2)\n",
            "Requirement already satisfied: MarkupSafe>=2.1.1 in /usr/local/lib/python3.12/dist-packages (from werkzeug>=1.0.1->tensorboard~=2.19.0->tensorflow==2.19.0->-r requirements.txt (line 3)) (3.0.3)\n"
          ]
        }
      ],
      "source": [
        "!pip install -r requirements.txt"
      ]
    },
    {
      "cell_type": "markdown",
      "source": [
        "# **Tensorflow CPU Acceleration Warning**\n",
        "You will see a warning in red \"oneDNN custom operations are on. You may see slightly different numerical results due to floating-point round-off errors from different computation orders\". This is simply coming from Tensorflow to accelerate computations on CPU."
      ],
      "metadata": {
        "id": "sJgiQ-oFCN5V"
      }
    },
    {
      "cell_type": "code",
      "source": [
        "from __future__ import print_function\n",
        "import os, sys, time, datetime, json, random\n",
        "import numpy as np\n",
        "import tensorflow as tf\n",
        "from tensorflow.keras.models import clone_model\n",
        "from keras.models import Sequential\n",
        "from keras.layers import Dense, Activation, PReLU\n",
        "from keras.optimizers import SGD , Adam, RMSprop\n",
        "import matplotlib.pyplot as plt\n",
        "from TreasureMaze import TreasureMaze\n",
        "from GameExperience import GameExperience\n",
        "%matplotlib inline"
      ],
      "metadata": {
        "id": "P8ZG3MaX1G5s"
      },
      "execution_count": 2,
      "outputs": []
    },
    {
      "cell_type": "markdown",
      "source": [
        "# **Maze Object Generation**\n",
        "The following code block contains an 8x8 matrix that will be used as a maze object:"
      ],
      "metadata": {
        "id": "u24VkMMuCXaI"
      }
    },
    {
      "cell_type": "code",
      "source": [
        "maze = np.array([\n",
        "    [ 1.,  0.,  1.,  1.,  1.,  1.,  1.,  1.],\n",
        "    [ 1.,  0.,  1.,  1.,  1.,  0.,  1.,  1.],\n",
        "    [ 1.,  1.,  1.,  1.,  0.,  1.,  0.,  1.],\n",
        "    [ 1.,  1.,  1.,  0.,  1.,  1.,  1.,  1.],\n",
        "    [ 1.,  1.,  0.,  1.,  1.,  1.,  1.,  1.],\n",
        "    [ 1.,  1.,  1.,  0.,  1.,  0.,  0.,  0.],\n",
        "    [ 1.,  1.,  1.,  0.,  1.,  1.,  1.,  1.],\n",
        "    [ 1.,  1.,  1.,  1.,  0.,  1.,  1.,  1.]\n",
        "])"
      ],
      "metadata": {
        "id": "56ldWTlP1JrG"
      },
      "execution_count": 3,
      "outputs": []
    },
    {
      "cell_type": "markdown",
      "source": [
        "# **Helper Functions and Global Variables**\n",
        "This show() helper function allows a visual representation of the maze object:"
      ],
      "metadata": {
        "id": "T5jeOt6gCw8t"
      }
    },
    {
      "cell_type": "code",
      "source": [
        "def show(qmaze):\n",
        "    plt.grid('on')\n",
        "    nrows, ncols = qmaze.maze.shape\n",
        "    ax = plt.gca()\n",
        "    ax.set_xticks(np.arange(0.5, nrows, 1))\n",
        "    ax.set_yticks(np.arange(0.5, ncols, 1))\n",
        "    ax.set_xticklabels([])\n",
        "    ax.set_yticklabels([])\n",
        "    canvas = np.copy(qmaze.maze)\n",
        "    for row,col in qmaze.visited:\n",
        "        canvas[row,col] = 0.6\n",
        "    pirate_row, pirate_col, _ = qmaze.state\n",
        "    canvas[pirate_row, pirate_col] = 0.3   # pirate cell\n",
        "    canvas[nrows-1, ncols-1] = 0.9 # treasure cell\n",
        "    img = plt.imshow(canvas, interpolation='none', cmap='gray')\n",
        "    return img"
      ],
      "metadata": {
        "id": "bc0tqGqG1LZU"
      },
      "execution_count": 4,
      "outputs": []
    },
    {
      "cell_type": "markdown",
      "source": [
        "The pirate agent can move in four directions: left, right, up, and down.\n",
        "\n",
        "While the agent primarily learns by experience through exploitation, often, the agent can choose to explore the environment to find previously undiscovered paths. This is called \"exploration\" and is defined by epsilon. This value is the EXPLORATION values from the Cartpole assignment. The hyperparameters are provided here and used in the qtrain() method. You are encouraged to try various values for the exploration factor and see how the algorithm performs."
      ],
      "metadata": {
        "id": "CLXceybhC2Nw"
      }
    },
    {
      "cell_type": "code",
      "source": [
        "LEFT = 0\n",
        "UP = 1\n",
        "RIGHT = 2\n",
        "DOWN = 3\n",
        "\n",
        "\n",
        "# Exploration factor\n",
        "epsilon = 1.0\n",
        "epsilon_min = 0.05\n",
        "epsilon_decay = 0.995\n",
        "patience = 10\n",
        "\n",
        "# Actions dictionary\n",
        "actions_dict = {\n",
        "    LEFT: 'left',\n",
        "    UP: 'up',\n",
        "    RIGHT: 'right',\n",
        "    DOWN: 'down',\n",
        "}\n",
        "\n",
        "num_actions = len(actions_dict)"
      ],
      "metadata": {
        "id": "MGa0G7h31N01"
      },
      "execution_count": 5,
      "outputs": []
    },
    {
      "cell_type": "markdown",
      "source": [
        "The sample code block and output below show creating a maze object and performing one action (DOWN), which returns the reward. The resulting updated environment is visualized."
      ],
      "metadata": {
        "id": "xkERo-KMC6Mc"
      }
    },
    {
      "cell_type": "code",
      "source": [
        "qmaze = TreasureMaze(maze)\n",
        "canvas, reward, game_over = qmaze.act(DOWN)\n",
        "print(\"reward=\", reward)\n",
        "show(qmaze)"
      ],
      "metadata": {
        "colab": {
          "base_uri": "https://localhost:8080/",
          "height": 446
        },
        "id": "pBJcaBF11Qwb",
        "outputId": "ce52e216-c021-4230-ee9b-82ba6cedc7fe"
      },
      "execution_count": 6,
      "outputs": [
        {
          "output_type": "stream",
          "name": "stdout",
          "text": [
            "reward= -0.04\n"
          ]
        },
        {
          "output_type": "execute_result",
          "data": {
            "text/plain": [
              "<matplotlib.image.AxesImage at 0x7d3b8d5dd5b0>"
            ]
          },
          "metadata": {},
          "execution_count": 6
        },
        {
          "output_type": "display_data",
          "data": {
            "text/plain": [
              "<Figure size 640x480 with 1 Axes>"
            ],
            "image/png": "[encoded data removed]"
          },
          "metadata": {}
        }
      ]
    },
    {
      "cell_type": "markdown",
      "source": [
        "This play_game() function simulates a full game based on the provided trained model. The other parameters include the TreasureMaze object, the starting position of the pirate and max amount of steps to make sure the code does not get stuck in a loop."
      ],
      "metadata": {
        "id": "6BsC5CgUC9ig"
      }
    },
    {
      "cell_type": "code",
      "source": [
        "def play_game(model, qmaze, pirate_cell, max_steps=None):\n",
        "    qmaze.reset(pirate_cell)\n",
        "    envstate = qmaze.observe()\n",
        "    steps = 0\n",
        "    if max_steps is None:\n",
        "        max_steps = qmaze.maze.size * 4  # safety cutoff\n",
        "\n",
        "    while steps < max_steps:\n",
        "        state = np.asarray(envstate, dtype=np.float32)\n",
        "        if state.ndim == 1:\n",
        "            state = np.expand_dims(state, axis=0)\n",
        "\n",
        "        q_values = model(state, training=False).numpy()\n",
        "        action = np.argmax(q_values[0])\n",
        "\n",
        "        envstate, reward, game_status = qmaze.act(action)\n",
        "        steps += 1\n",
        "\n",
        "        if game_status == 'win':\n",
        "            return True\n",
        "        elif game_status == 'lose':\n",
        "            return False\n",
        "\n",
        "    return False  # timed out with no result"
      ],
      "metadata": {
        "id": "8myes8rhCDrN"
      },
      "execution_count": 7,
      "outputs": []
    },
    {
      "cell_type": "markdown",
      "source": [
        "This completion_check() function helps you to determine whether the pirate can win any game at all. If your maze is not well designed, the pirate may not win any game at all. In this case, your training would not yield any result. The provided maze in this notebook ensures that there is a path to win and you can run this method to check."
      ],
      "metadata": {
        "id": "M6CJxniGC_-h"
      }
    },
    {
      "cell_type": "code",
      "source": [
        "def completion_check(model, maze_or_qmaze, max_steps=None):\n",
        "    # Accept either raw numpy maze or TreasureMaze instance\n",
        "    if isinstance(maze_or_qmaze, TreasureMaze):\n",
        "        qmaze = maze_or_qmaze\n",
        "    else:\n",
        "        qmaze = TreasureMaze(maze_or_qmaze)\n",
        "\n",
        "    for cell in qmaze.free_cells:\n",
        "        if not qmaze.valid_actions(cell):\n",
        "            continue\n",
        "        if not play_game(model, qmaze, cell, max_steps=max_steps):\n",
        "            return False\n",
        "    return True"
      ],
      "metadata": {
        "id": "lcYOtT2p1TTj"
      },
      "execution_count": 8,
      "outputs": []
    },
    {
      "cell_type": "markdown",
      "source": [
        "The build_model() function in the block below will build the neural network model. Review the code and note the number of layers, as well as the activation, optimizer, and loss functions that are used to train the model."
      ],
      "metadata": {
        "id": "lvLa6NcSDDqQ"
      }
    },
    {
      "cell_type": "code",
      "source": [
        "def build_model(maze):\n",
        "    model = Sequential()\n",
        "    model.add(Dense(maze.size, input_shape=(maze.size,)))\n",
        "    model.add(PReLU())\n",
        "    model.add(Dense(maze.size))\n",
        "    model.add(PReLU())\n",
        "    model.add(Dense(num_actions))\n",
        "    model.compile(optimizer='adam', loss='mse')\n",
        "    return model"
      ],
      "metadata": {
        "id": "Q2B1pRxm1VJ3"
      },
      "execution_count": 9,
      "outputs": []
    },
    {
      "cell_type": "markdown",
      "source": [
        "This train_step() helper function in the block below is used to help predict Q-values (quality values) in the current modelto see how good each action is in a given state and improve the Q-network by reducing the gap between what is predicted and what should have been predicted.\n",
        "\n",
        "If you're interested in reading up on the @tf.function, which is a decorator for Tensorflow to run this code into a TensorFlow computation graph, please refer to this link: https://www.tensorflow.org/guide/intro_to_graphs"
      ],
      "metadata": {
        "id": "FQqtiDf6DHB-"
      }
    },
    {
      "cell_type": "markdown",
      "source": [
        "# **Tensorflow GPU Warning**\n",
        "You will see a warning in red \"INTERNAL: CUDA Runtime error: Failed call to cudaGetRuntimeVersion: Error loading CUDA libraries. GPU will not be used.\". This is simply coming from Tensorflow skipping using GPU for this assignment."
      ],
      "metadata": {
        "id": "yEgm533mDKIX"
      }
    },
    {
      "cell_type": "code",
      "source": [
        "loss_fn = tf.keras.losses.MeanSquaredError()\n",
        "optimizer = tf.keras.optimizers.Adam()\n",
        "\n",
        "@tf.function\n",
        "def train_step(x, y):\n",
        "    with tf.GradientTape() as tape:\n",
        "        q_values = model(x, training=True)\n",
        "        loss = loss_fn(y, q_values)\n",
        "    grads = tape.gradient(loss, model.trainable_variables)\n",
        "    optimizer.apply_gradients(zip(grads, model.trainable_variables))\n",
        "    return loss"
      ],
      "metadata": {
        "id": "vLwxl2Ic1XEH"
      },
      "execution_count": 10,
      "outputs": []
    },
    {
      "cell_type": "markdown",
      "source": [
        "**#TODO: Complete the Q-Training Algorithm Code Block**\n",
        "This is your deep Q-learning implementation. The goal of your deep Q-learning implementation is to find the best possible navigation sequence that results in reaching the treasure cell while maximizing the reward. In your implementation, you need to determine the optimal number of epochs to achieve a 100% win rate.\n",
        "\n",
        "Pseudocode:\n",
        "For each epoch:\n",
        "    Reset the environment at a random starting cell\n",
        "    agent_cell = randomly select a free cell\n",
        "    Hint: Review the reset method in the TreasureMaze.py class.\n",
        "\n",
        "    Set the initial environment state\n",
        "    env_state should reference the environment's current state\n",
        "    Hint: Review the observe method in the TreasureMaze.py class.\n",
        "\n",
        "    While game status is not game over:\n",
        "       previous_envstate = env_state\n",
        "        Decide on an action:\n",
        "            - If possible, take a random valid exploration action and\n",
        "              randomly choose action (left, right, up, down)\n",
        "              and assign it to an action variable\n",
        "            - Else, pick the best exploitation action from the model and assign it to an action variable\n",
        "              Hint: Review the predict method in the GameExperience.py class.\n",
        "\n",
        "       Retrieve the values below from the act() method.\n",
        "       env_state, reward, game_status = qmaze.act(action)\n",
        "       Hint: Review the act method in the TreasureMaze.py class.\n",
        "\n",
        "        Track the wins and losses from the game_status using win_history\n",
        "     \n",
        "       Store the episode below in the Experience replay object\n",
        "       episode = [previous_envstate, action, reward, envstate, game_status]\n",
        "       Hint: Review the remember method in the GameExperience.py class.\n",
        "    \n",
        "       Train neural network model and evaluate loss\n",
        "       Hint: Call GameExperience.get_data to retrieve training data (input and target)\n",
        "       and pass to the train_step method and assign it to batch_loss and append to the loss variable\n",
        "    \n",
        "  If the win rate is above the threshold and your model passes the completion check, that would be your epoch.\n",
        "Note: A 100% win rate DOES NOT EXPLICITLY MEAN that you have solved the maze. It simply indicates that during the last evaluation, the pirate happened to get to the treasure. Be sure to utilise the completion_check() function to validate your pirate found the treasure at every starting point and consistently!\n",
        "\n",
        "You will need to complete the section starting with #START_HERE. Please use the pseudocode above as guidance."
      ],
      "metadata": {
        "id": "5IiNYnf2DPTD"
      }
    },
    {
      "cell_type": "code",
      "source": [
        "def qtrain(model, maze, **opt):\n",
        "    # exploration factor\n",
        "    global epsilon\n",
        "\n",
        "    # Number of epochs\n",
        "    n_epoch = opt.get('n_epoch', 15000)\n",
        "\n",
        "    # Maximum meory to store episodes\n",
        "    max_memory = opt.get('max_memory', 1000)\n",
        "\n",
        "    # Maximum data size for training\n",
        "    data_size = opt.get('data_size', 50)\n",
        "\n",
        "    # Frequency of target network updates\n",
        "    target_update_freq = opt.get('target_update_freq', 50)\n",
        "\n",
        "    # Start time\n",
        "    start_time = datetime.datetime.now()\n",
        "\n",
        "    # Construct environment/game from numpy array: maze (see argument above)\n",
        "    qmaze = TreasureMaze(maze)\n",
        "\n",
        "    # Target Network to better guide training\n",
        "    target_model = clone_model(model)\n",
        "    target_model.set_weights(model.get_weights())\n",
        "\n",
        "    # Initialize experience replay object\n",
        "    experience = GameExperience(model, target_model, max_memory=max_memory)\n",
        "\n",
        "    win_history = [] # history of win/lose game\n",
        "    hsize = qmaze.maze.size // 2 #history window size\n",
        "    win_rate = 0.0\n",
        "\n",
        "    # START_HERE\n",
        "    for epoch in range(n_epoch):\n",
        "        agent_cell = random.choice(qmaze.free_cells)\n",
        "        qmaze.reset(agent_cell)\n",
        "        envstate = qmaze.observe()\n",
        "        game_over = False\n",
        "        n_episodes = 0\n",
        "        loss = 0.0\n",
        "\n",
        "        while not game_over:\n",
        "            prev_envstate = envstate\n",
        "            if np.random.rand() < epsilon:\n",
        "                action = random.choice(qmaze.valid_actions())\n",
        "            else:\n",
        "                q_values = model.predict(envstate, verbose=0)\n",
        "                action = np.argmax(q_values[0])\n",
        "\n",
        "            envstate, reward, status = qmaze.act(action)\n",
        "\n",
        "            if status == 'win':\n",
        "                win_history.append(1)\n",
        "                game_over = True\n",
        "            elif status == 'lose':\n",
        "                win_history.append(0)\n",
        "                game_over = True\n",
        "\n",
        "            episode = [prev_envstate, action, reward, envstate, status]\n",
        "            experience.remember(episode)\n",
        "\n",
        "            inputs, targets = experience.get_data(data_size)\n",
        "            history = model.fit(inputs, targets, epochs=1, verbose=0)\n",
        "            batch_loss = history.history['loss'][0]\n",
        "            loss += batch_loss\n",
        "            n_episodes += 1\n",
        "\n",
        "\n",
        "            # Win rate over last hsize steps\n",
        "        win_rate = sum(win_history[-hsize:]) / hsize if len(win_history) >= hsize else 0.0\n",
        "\n",
        "        # Print the epoch, loss, episode, win count, win rate, and time for each epoch\n",
        "        dt = datetime.datetime.now() - start_time\n",
        "        t = format_time(dt.total_seconds())\n",
        "        print(\"Epoch: {:03d}/{:d} | Loss: {:.4f} | Episodes: {:d} | Win count: {:d} | Win rate: {:.3f} | time: {}\".format(\n",
        "            epoch, n_epoch-1, loss, n_episodes, sum(win_history), win_rate, t))\n",
        "\n",
        "        # Check if training has exhausted all free cells and if in all\n",
        "        # cases the agent won\n",
        "        if win_rate > 0.9:\n",
        "            epsilon = 0.05\n",
        "        else:\n",
        "            epsilon = max(epsilon * epsilon_decay, epsilon_min)\n",
        "\n",
        "        if win_rate >= 0.999 and completion_check(model, maze):\n",
        "            print(f\"Reached 100% win rate at epoch {epoch}\")\n",
        "            break\n",
        "\n",
        "    total_time = format_time((datetime.datetime.now() - start_time).total_seconds())\n",
        "    print(\"Training complete in:\", total_time)\n",
        "\n",
        "\n",
        "# This is a small utility for printing readable time strings:\n",
        "def format_time(seconds):\n",
        "    if seconds < 400:\n",
        "        s = float(seconds)\n",
        "        return \"%.1f seconds\" % (s,)\n",
        "    elif seconds < 4000:\n",
        "        m = seconds / 60.0\n",
        "        return \"%.2f minutes\" % (m,)\n",
        "    else:\n",
        "        h = seconds / 3600.0\n",
        "        return \"%.2f hours\" % (h,)"
      ],
      "metadata": {
        "id": "Ggtcb1ab1bTJ"
      },
      "execution_count": 11,
      "outputs": []
    },
    {
      "cell_type": "markdown",
      "source": [
        "# **Test Your Model**\n",
        "Now we will start testing the deep Q-learning implementation. To begin, select Cell, then Run All from the menu bar. This will run your notebook. As it runs, you should see output begin to appear beneath the next few cells. The code below creates an instance of TreasureMaze. This does not show your actual training done."
      ],
      "metadata": {
        "id": "8nmR877MDaMi"
      }
    },
    {
      "cell_type": "code",
      "source": [
        "qmaze = TreasureMaze(maze)\n",
        "show(qmaze)"
      ],
      "metadata": {
        "colab": {
          "base_uri": "https://localhost:8080/",
          "height": 428
        },
        "id": "tiBMi2rX2Lxg",
        "outputId": "03ffe69a-eff9-4804-d322-eb6cd17cee9e"
      },
      "execution_count": 12,
      "outputs": [
        {
          "output_type": "execute_result",
          "data": {
            "text/plain": [
              "<matplotlib.image.AxesImage at 0x7d3b81222ff0>"
            ]
          },
          "metadata": {},
          "execution_count": 12
        },
        {
          "output_type": "display_data",
          "data": {
            "text/plain": [
              "<Figure size 640x480 with 1 Axes>"
            ],
            "image/png": "[encoded data removed]"
          },
          "metadata": {}
        }
      ]
    },
    {
      "cell_type": "markdown",
      "source": [
        "In the next code block, you will build your model using the build_model function and train it using deep Q-learning. Note: This step takes several minutes to fully run."
      ],
      "metadata": {
        "id": "6Zai_fWSDduM"
      }
    },
    {
      "cell_type": "code",
      "source": [
        "model = build_model(maze)\n",
        "qtrain(model, maze, n_epoch=1000, max_memory=8*maze.size, data_size=32, target_update_freq=50)"
      ],
      "metadata": {
        "colab": {
          "base_uri": "https://localhost:8080/"
        },
        "id": "xMgeBvk52Ngr",
        "outputId": "96a063ee-fab6-49f5-be84-46f58e6c1426"
      },
      "execution_count": 13,
      "outputs": [
        {
          "output_type": "stream",
          "name": "stderr",
          "text": [
            "/usr/local/lib/python3.12/dist-packages/keras/src/layers/core/dense.py:93: UserWarning: Do not pass an `input_shape`/`input_dim` argument to a layer. When using Sequential models, prefer using an `Input(shape)` object as the first layer in the model instead.\n",
            "  super().__init__(activity_regularizer=activity_regularizer, **kwargs)\n"
          ]
        },
        {
          "output_type": "stream",
          "name": "stdout",
          "text": [
            "Epoch: 000/999 | Loss: 0.3421 | Episodes: 155 | Win count: 0 | Win rate: 0.000 | time: 20.8 seconds\n",
            "Epoch: 001/999 | Loss: 0.2757 | Episodes: 144 | Win count: 0 | Win rate: 0.000 | time: 31.6 seconds\n",
            "Epoch: 002/999 | Loss: 0.2544 | Episodes: 144 | Win count: 0 | Win rate: 0.000 | time: 42.3 seconds\n",
            "Epoch: 003/999 | Loss: 0.2124 | Episodes: 147 | Win count: 0 | Win rate: 0.000 | time: 53.5 seconds\n",
            "Epoch: 004/999 | Loss: 0.0012 | Episodes: 1 | Win count: 1 | Win rate: 0.000 | time: 53.7 seconds\n",
            "Epoch: 005/999 | Loss: 0.0034 | Episodes: 3 | Win count: 2 | Win rate: 0.000 | time: 54.0 seconds\n",
            "Epoch: 006/999 | Loss: 0.0031 | Episodes: 2 | Win count: 3 | Win rate: 0.000 | time: 54.2 seconds\n",
            "Epoch: 007/999 | Loss: 0.5779 | Episodes: 149 | Win count: 3 | Win rate: 0.000 | time: 66.2 seconds\n",
            "Epoch: 008/999 | Loss: 0.4904 | Episodes: 147 | Win count: 3 | Win rate: 0.000 | time: 78.3 seconds\n",
            "Epoch: 009/999 | Loss: 0.6764 | Episodes: 150 | Win count: 3 | Win rate: 0.000 | time: 90.1 seconds\n",
            "Epoch: 010/999 | Loss: 0.3600 | Episodes: 154 | Win count: 3 | Win rate: 0.000 | time: 101.9 seconds\n",
            "Epoch: 011/999 | Loss: 0.2432 | Episodes: 144 | Win count: 3 | Win rate: 0.000 | time: 113.4 seconds\n",
            "Epoch: 012/999 | Loss: 0.2287 | Episodes: 149 | Win count: 3 | Win rate: 0.000 | time: 125.0 seconds\n",
            "Epoch: 013/999 | Loss: 0.0037 | Episodes: 2 | Win count: 4 | Win rate: 0.000 | time: 125.2 seconds\n",
            "Epoch: 014/999 | Loss: 0.0995 | Episodes: 43 | Win count: 5 | Win rate: 0.000 | time: 128.9 seconds\n",
            "Epoch: 015/999 | Loss: 0.3982 | Episodes: 144 | Win count: 5 | Win rate: 0.000 | time: 141.3 seconds\n",
            "Epoch: 016/999 | Loss: 0.3959 | Episodes: 147 | Win count: 5 | Win rate: 0.000 | time: 153.1 seconds\n",
            "Epoch: 017/999 | Loss: 0.4372 | Episodes: 150 | Win count: 5 | Win rate: 0.000 | time: 165.4 seconds\n",
            "Epoch: 018/999 | Loss: 0.3121 | Episodes: 156 | Win count: 5 | Win rate: 0.000 | time: 177.9 seconds\n",
            "Epoch: 019/999 | Loss: 0.1168 | Episodes: 67 | Win count: 6 | Win rate: 0.000 | time: 183.2 seconds\n",
            "Epoch: 020/999 | Loss: 0.0467 | Episodes: 25 | Win count: 7 | Win rate: 0.000 | time: 185.0 seconds\n",
            "Epoch: 021/999 | Loss: 0.4458 | Episodes: 144 | Win count: 7 | Win rate: 0.000 | time: 196.7 seconds\n",
            "Epoch: 022/999 | Loss: 0.4559 | Episodes: 165 | Win count: 7 | Win rate: 0.000 | time: 210.1 seconds\n",
            "Epoch: 023/999 | Loss: 0.1079 | Episodes: 29 | Win count: 8 | Win rate: 0.000 | time: 212.7 seconds\n",
            "Epoch: 024/999 | Loss: 0.5008 | Episodes: 151 | Win count: 8 | Win rate: 0.000 | time: 225.1 seconds\n",
            "Epoch: 025/999 | Loss: 0.3188 | Episodes: 144 | Win count: 8 | Win rate: 0.000 | time: 238.1 seconds\n",
            "Epoch: 026/999 | Loss: 0.0626 | Episodes: 29 | Win count: 9 | Win rate: 0.000 | time: 240.4 seconds\n",
            "Epoch: 027/999 | Loss: 0.2736 | Episodes: 143 | Win count: 9 | Win rate: 0.000 | time: 252.7 seconds\n",
            "Epoch: 028/999 | Loss: 0.0104 | Episodes: 6 | Win count: 10 | Win rate: 0.000 | time: 253.2 seconds\n",
            "Epoch: 029/999 | Loss: 0.2221 | Episodes: 141 | Win count: 10 | Win rate: 0.000 | time: 265.6 seconds\n",
            "Epoch: 030/999 | Loss: 0.2000 | Episodes: 150 | Win count: 10 | Win rate: 0.000 | time: 278.1 seconds\n",
            "Epoch: 031/999 | Loss: 0.0081 | Episodes: 5 | Win count: 11 | Win rate: 0.344 | time: 278.5 seconds\n",
            "Epoch: 032/999 | Loss: 0.1942 | Episodes: 141 | Win count: 11 | Win rate: 0.344 | time: 290.3 seconds\n",
            "Epoch: 033/999 | Loss: 0.1021 | Episodes: 74 | Win count: 12 | Win rate: 0.375 | time: 297.2 seconds\n",
            "Epoch: 034/999 | Loss: 0.1898 | Episodes: 144 | Win count: 12 | Win rate: 0.375 | time: 309.5 seconds\n",
            "Epoch: 035/999 | Loss: 0.2034 | Episodes: 150 | Win count: 12 | Win rate: 0.375 | time: 322.6 seconds\n",
            "Epoch: 036/999 | Loss: 0.1995 | Episodes: 148 | Win count: 12 | Win rate: 0.344 | time: 335.6 seconds\n",
            "Epoch: 037/999 | Loss: 0.0227 | Episodes: 8 | Win count: 13 | Win rate: 0.344 | time: 336.3 seconds\n",
            "Epoch: 038/999 | Loss: 0.0065 | Episodes: 4 | Win count: 14 | Win rate: 0.344 | time: 336.6 seconds\n",
            "Epoch: 039/999 | Loss: 0.0140 | Episodes: 6 | Win count: 15 | Win rate: 0.375 | time: 337.2 seconds\n",
            "Epoch: 040/999 | Loss: 0.5263 | Episodes: 142 | Win count: 15 | Win rate: 0.375 | time: 349.7 seconds\n",
            "Epoch: 041/999 | Loss: 0.5500 | Episodes: 139 | Win count: 15 | Win rate: 0.375 | time: 361.8 seconds\n",
            "Epoch: 042/999 | Loss: 0.4729 | Episodes: 148 | Win count: 15 | Win rate: 0.375 | time: 375.3 seconds\n",
            "Epoch: 043/999 | Loss: 0.2664 | Episodes: 147 | Win count: 15 | Win rate: 0.375 | time: 388.3 seconds\n",
            "Epoch: 044/999 | Loss: 0.1632 | Episodes: 134 | Win count: 16 | Win rate: 0.406 | time: 6.68 minutes\n",
            "Epoch: 045/999 | Loss: 0.1904 | Episodes: 147 | Win count: 16 | Win rate: 0.375 | time: 6.90 minutes\n",
            "Epoch: 046/999 | Loss: 0.0069 | Episodes: 5 | Win count: 17 | Win rate: 0.375 | time: 6.91 minutes\n",
            "Epoch: 047/999 | Loss: 0.2141 | Episodes: 151 | Win count: 17 | Win rate: 0.375 | time: 7.15 minutes\n",
            "Epoch: 048/999 | Loss: 0.3513 | Episodes: 146 | Win count: 17 | Win rate: 0.375 | time: 7.37 minutes\n",
            "Epoch: 049/999 | Loss: 0.2395 | Episodes: 146 | Win count: 17 | Win rate: 0.375 | time: 7.57 minutes\n",
            "Epoch: 050/999 | Loss: 0.2105 | Episodes: 145 | Win count: 17 | Win rate: 0.375 | time: 7.79 minutes\n",
            "Epoch: 051/999 | Loss: 0.1964 | Episodes: 144 | Win count: 17 | Win rate: 0.344 | time: 8.01 minutes\n",
            "Epoch: 052/999 | Loss: 0.2281 | Episodes: 159 | Win count: 17 | Win rate: 0.312 | time: 8.25 minutes\n",
            "Epoch: 053/999 | Loss: 0.2298 | Episodes: 143 | Win count: 17 | Win rate: 0.312 | time: 8.47 minutes\n",
            "Epoch: 054/999 | Loss: 0.2231 | Episodes: 152 | Win count: 17 | Win rate: 0.312 | time: 8.69 minutes\n",
            "Epoch: 055/999 | Loss: 0.2026 | Episodes: 139 | Win count: 17 | Win rate: 0.281 | time: 8.90 minutes\n",
            "Epoch: 056/999 | Loss: 0.0024 | Episodes: 3 | Win count: 18 | Win rate: 0.312 | time: 8.91 minutes\n",
            "Epoch: 057/999 | Loss: 0.3389 | Episodes: 150 | Win count: 18 | Win rate: 0.312 | time: 9.17 minutes\n",
            "Epoch: 058/999 | Loss: 0.1974 | Episodes: 104 | Win count: 19 | Win rate: 0.312 | time: 9.33 minutes\n",
            "Epoch: 059/999 | Loss: 0.3713 | Episodes: 139 | Win count: 19 | Win rate: 0.312 | time: 9.56 minutes\n",
            "Epoch: 060/999 | Loss: 0.0319 | Episodes: 10 | Win count: 20 | Win rate: 0.312 | time: 9.58 minutes\n",
            "Epoch: 061/999 | Loss: 0.4316 | Episodes: 150 | Win count: 20 | Win rate: 0.312 | time: 9.82 minutes\n",
            "Epoch: 062/999 | Loss: 0.2644 | Episodes: 140 | Win count: 20 | Win rate: 0.312 | time: 10.04 minutes\n",
            "Epoch: 063/999 | Loss: 0.2443 | Episodes: 147 | Win count: 20 | Win rate: 0.281 | time: 10.27 minutes\n",
            "Epoch: 064/999 | Loss: 0.0083 | Episodes: 9 | Win count: 21 | Win rate: 0.312 | time: 10.28 minutes\n",
            "Epoch: 065/999 | Loss: 0.3492 | Episodes: 144 | Win count: 21 | Win rate: 0.281 | time: 10.51 minutes\n",
            "Epoch: 066/999 | Loss: 0.2159 | Episodes: 149 | Win count: 21 | Win rate: 0.281 | time: 10.75 minutes\n",
            "Epoch: 067/999 | Loss: 0.2162 | Episodes: 148 | Win count: 21 | Win rate: 0.281 | time: 10.98 minutes\n",
            "Epoch: 068/999 | Loss: 0.1914 | Episodes: 140 | Win count: 21 | Win rate: 0.281 | time: 11.20 minutes\n",
            "Epoch: 069/999 | Loss: 0.1883 | Episodes: 147 | Win count: 21 | Win rate: 0.250 | time: 11.44 minutes\n",
            "Epoch: 070/999 | Loss: 0.1755 | Episodes: 142 | Win count: 21 | Win rate: 0.219 | time: 11.67 minutes\n",
            "Epoch: 071/999 | Loss: 0.1944 | Episodes: 151 | Win count: 21 | Win rate: 0.188 | time: 11.90 minutes\n",
            "Epoch: 072/999 | Loss: 0.0259 | Episodes: 21 | Win count: 22 | Win rate: 0.219 | time: 11.95 minutes\n",
            "Epoch: 073/999 | Loss: 0.2475 | Episodes: 139 | Win count: 22 | Win rate: 0.219 | time: 12.17 minutes\n",
            "Epoch: 074/999 | Loss: 0.3445 | Episodes: 149 | Win count: 22 | Win rate: 0.219 | time: 12.42 minutes\n",
            "Epoch: 075/999 | Loss: 0.2503 | Episodes: 144 | Win count: 22 | Win rate: 0.219 | time: 12.65 minutes\n",
            "Epoch: 076/999 | Loss: 0.1929 | Episodes: 147 | Win count: 22 | Win rate: 0.188 | time: 12.89 minutes\n",
            "Epoch: 077/999 | Loss: 0.2150 | Episodes: 151 | Win count: 22 | Win rate: 0.188 | time: 13.15 minutes\n",
            "Epoch: 078/999 | Loss: 0.1989 | Episodes: 141 | Win count: 22 | Win rate: 0.156 | time: 13.38 minutes\n",
            "Epoch: 079/999 | Loss: 0.1742 | Episodes: 140 | Win count: 22 | Win rate: 0.156 | time: 13.61 minutes\n",
            "Epoch: 080/999 | Loss: 0.1761 | Episodes: 127 | Win count: 23 | Win rate: 0.188 | time: 13.82 minutes\n",
            "Epoch: 081/999 | Loss: 0.1992 | Episodes: 138 | Win count: 23 | Win rate: 0.188 | time: 14.07 minutes\n",
            "Epoch: 082/999 | Loss: 0.0071 | Episodes: 5 | Win count: 24 | Win rate: 0.219 | time: 14.08 minutes\n",
            "Epoch: 083/999 | Loss: 0.2828 | Episodes: 144 | Win count: 24 | Win rate: 0.219 | time: 14.33 minutes\n",
            "Epoch: 084/999 | Loss: 0.0039 | Episodes: 2 | Win count: 25 | Win rate: 0.250 | time: 14.34 minutes\n",
            "Epoch: 085/999 | Loss: 0.2986 | Episodes: 157 | Win count: 25 | Win rate: 0.250 | time: 14.59 minutes\n",
            "Epoch: 086/999 | Loss: 0.3029 | Episodes: 141 | Win count: 25 | Win rate: 0.250 | time: 14.82 minutes\n",
            "Epoch: 087/999 | Loss: 0.0857 | Episodes: 63 | Win count: 26 | Win rate: 0.281 | time: 14.93 minutes\n",
            "Epoch: 088/999 | Loss: 0.0792 | Episodes: 50 | Win count: 27 | Win rate: 0.281 | time: 15.01 minutes\n",
            "Epoch: 089/999 | Loss: 0.2674 | Episodes: 144 | Win count: 27 | Win rate: 0.281 | time: 15.26 minutes\n",
            "Epoch: 090/999 | Loss: 0.2125 | Episodes: 153 | Win count: 27 | Win rate: 0.250 | time: 15.54 minutes\n",
            "Epoch: 091/999 | Loss: 0.2464 | Episodes: 151 | Win count: 27 | Win rate: 0.250 | time: 15.80 minutes\n",
            "Epoch: 092/999 | Loss: 0.2431 | Episodes: 154 | Win count: 27 | Win rate: 0.219 | time: 16.06 minutes\n",
            "Epoch: 093/999 | Loss: 0.2281 | Episodes: 145 | Win count: 27 | Win rate: 0.219 | time: 16.32 minutes\n",
            "Epoch: 094/999 | Loss: 0.2282 | Episodes: 160 | Win count: 27 | Win rate: 0.219 | time: 16.61 minutes\n",
            "Epoch: 095/999 | Loss: 0.0261 | Episodes: 18 | Win count: 28 | Win rate: 0.250 | time: 16.63 minutes\n",
            "Epoch: 096/999 | Loss: 0.2393 | Episodes: 142 | Win count: 28 | Win rate: 0.219 | time: 16.88 minutes\n",
            "Epoch: 097/999 | Loss: 0.2424 | Episodes: 149 | Win count: 28 | Win rate: 0.219 | time: 17.13 minutes\n",
            "Epoch: 098/999 | Loss: 0.1141 | Episodes: 70 | Win count: 29 | Win rate: 0.250 | time: 17.25 minutes\n",
            "Epoch: 099/999 | Loss: 0.2856 | Episodes: 151 | Win count: 29 | Win rate: 0.250 | time: 17.49 minutes\n",
            "Epoch: 100/999 | Loss: 0.2405 | Episodes: 145 | Win count: 29 | Win rate: 0.250 | time: 17.74 minutes\n",
            "Epoch: 101/999 | Loss: 0.2024 | Episodes: 135 | Win count: 30 | Win rate: 0.281 | time: 17.96 minutes\n",
            "Epoch: 102/999 | Loss: 0.2219 | Episodes: 138 | Win count: 31 | Win rate: 0.312 | time: 18.19 minutes\n",
            "Epoch: 103/999 | Loss: 0.2435 | Episodes: 157 | Win count: 31 | Win rate: 0.312 | time: 18.46 minutes\n",
            "Epoch: 104/999 | Loss: 0.1121 | Episodes: 64 | Win count: 32 | Win rate: 0.312 | time: 18.58 minutes\n",
            "Epoch: 105/999 | Loss: 0.1388 | Episodes: 80 | Win count: 33 | Win rate: 0.344 | time: 18.71 minutes\n",
            "Epoch: 106/999 | Loss: 0.2665 | Episodes: 135 | Win count: 34 | Win rate: 0.375 | time: 18.97 minutes\n",
            "Epoch: 107/999 | Loss: 0.2794 | Episodes: 150 | Win count: 34 | Win rate: 0.375 | time: 19.23 minutes\n",
            "Epoch: 108/999 | Loss: 0.2905 | Episodes: 155 | Win count: 34 | Win rate: 0.375 | time: 19.49 minutes\n",
            "Epoch: 109/999 | Loss: 0.0882 | Episodes: 46 | Win count: 35 | Win rate: 0.406 | time: 19.58 minutes\n",
            "Epoch: 110/999 | Loss: 0.2556 | Episodes: 146 | Win count: 36 | Win rate: 0.438 | time: 19.84 minutes\n",
            "Epoch: 111/999 | Loss: 0.1339 | Episodes: 79 | Win count: 37 | Win rate: 0.469 | time: 20.00 minutes\n",
            "Epoch: 112/999 | Loss: 0.2504 | Episodes: 144 | Win count: 37 | Win rate: 0.438 | time: 20.25 minutes\n",
            "Epoch: 113/999 | Loss: 0.1039 | Episodes: 55 | Win count: 38 | Win rate: 0.469 | time: 20.35 minutes\n",
            "Epoch: 114/999 | Loss: 0.0081 | Episodes: 4 | Win count: 39 | Win rate: 0.469 | time: 20.36 minutes\n",
            "Epoch: 115/999 | Loss: 0.1187 | Episodes: 62 | Win count: 40 | Win rate: 0.500 | time: 20.47 minutes\n",
            "Epoch: 116/999 | Loss: 0.1489 | Episodes: 78 | Win count: 41 | Win rate: 0.500 | time: 20.61 minutes\n",
            "Epoch: 117/999 | Loss: 0.2976 | Episodes: 148 | Win count: 41 | Win rate: 0.500 | time: 20.87 minutes\n",
            "Epoch: 118/999 | Loss: 0.0155 | Episodes: 8 | Win count: 42 | Win rate: 0.531 | time: 20.88 minutes\n",
            "Epoch: 119/999 | Loss: 0.1245 | Episodes: 66 | Win count: 43 | Win rate: 0.531 | time: 21.01 minutes\n",
            "Epoch: 120/999 | Loss: 0.0171 | Episodes: 9 | Win count: 44 | Win rate: 0.531 | time: 21.03 minutes\n",
            "Epoch: 121/999 | Loss: 0.2354 | Episodes: 121 | Win count: 45 | Win rate: 0.562 | time: 21.25 minutes\n",
            "Epoch: 122/999 | Loss: 0.2573 | Episodes: 143 | Win count: 45 | Win rate: 0.562 | time: 21.53 minutes\n",
            "Epoch: 123/999 | Loss: 0.2462 | Episodes: 148 | Win count: 45 | Win rate: 0.562 | time: 21.80 minutes\n",
            "Epoch: 124/999 | Loss: 0.1480 | Episodes: 91 | Win count: 46 | Win rate: 0.594 | time: 21.98 minutes\n",
            "Epoch: 125/999 | Loss: 0.1475 | Episodes: 96 | Win count: 47 | Win rate: 0.625 | time: 22.15 minutes\n",
            "Epoch: 126/999 | Loss: 0.1188 | Episodes: 76 | Win count: 48 | Win rate: 0.656 | time: 22.28 minutes\n",
            "Epoch: 127/999 | Loss: 0.1196 | Episodes: 72 | Win count: 49 | Win rate: 0.656 | time: 22.41 minutes\n",
            "Epoch: 128/999 | Loss: 0.0101 | Episodes: 6 | Win count: 50 | Win rate: 0.688 | time: 22.42 minutes\n",
            "Epoch: 129/999 | Loss: 0.0105 | Episodes: 6 | Win count: 51 | Win rate: 0.719 | time: 22.44 minutes\n",
            "Epoch: 130/999 | Loss: 0.0277 | Episodes: 15 | Win count: 52 | Win rate: 0.719 | time: 22.46 minutes\n",
            "Epoch: 131/999 | Loss: 0.0230 | Episodes: 12 | Win count: 53 | Win rate: 0.750 | time: 22.48 minutes\n",
            "Epoch: 132/999 | Loss: 0.0211 | Episodes: 12 | Win count: 54 | Win rate: 0.781 | time: 22.51 minutes\n",
            "Epoch: 133/999 | Loss: 0.2861 | Episodes: 149 | Win count: 54 | Win rate: 0.750 | time: 22.77 minutes\n",
            "Epoch: 134/999 | Loss: 0.1271 | Episodes: 68 | Win count: 55 | Win rate: 0.750 | time: 22.90 minutes\n",
            "Epoch: 135/999 | Loss: 0.2924 | Episodes: 160 | Win count: 55 | Win rate: 0.750 | time: 23.19 minutes\n",
            "Epoch: 136/999 | Loss: 0.2520 | Episodes: 141 | Win count: 56 | Win rate: 0.750 | time: 23.45 minutes\n",
            "Epoch: 137/999 | Loss: 0.0911 | Episodes: 53 | Win count: 57 | Win rate: 0.750 | time: 23.56 minutes\n",
            "Epoch: 138/999 | Loss: 0.0575 | Episodes: 33 | Win count: 58 | Win rate: 0.750 | time: 23.62 minutes\n",
            "Epoch: 139/999 | Loss: 0.0297 | Episodes: 17 | Win count: 59 | Win rate: 0.781 | time: 23.65 minutes\n",
            "Epoch: 140/999 | Loss: 0.2743 | Episodes: 142 | Win count: 59 | Win rate: 0.781 | time: 23.94 minutes\n",
            "Epoch: 141/999 | Loss: 0.0948 | Episodes: 55 | Win count: 60 | Win rate: 0.781 | time: 24.03 minutes\n",
            "Epoch: 142/999 | Loss: 0.2120 | Episodes: 121 | Win count: 61 | Win rate: 0.781 | time: 24.27 minutes\n",
            "Epoch: 143/999 | Loss: 0.1518 | Episodes: 84 | Win count: 62 | Win rate: 0.781 | time: 24.42 minutes\n",
            "Epoch: 144/999 | Loss: 0.0408 | Episodes: 24 | Win count: 63 | Win rate: 0.812 | time: 24.47 minutes\n",
            "Epoch: 145/999 | Loss: 0.1580 | Episodes: 85 | Win count: 64 | Win rate: 0.812 | time: 24.62 minutes\n",
            "Epoch: 146/999 | Loss: 0.0225 | Episodes: 12 | Win count: 65 | Win rate: 0.812 | time: 24.64 minutes\n",
            "Epoch: 147/999 | Loss: 0.0149 | Episodes: 8 | Win count: 66 | Win rate: 0.812 | time: 24.66 minutes\n",
            "Epoch: 148/999 | Loss: 0.3079 | Episodes: 149 | Win count: 66 | Win rate: 0.781 | time: 24.95 minutes\n",
            "Epoch: 149/999 | Loss: 0.0030 | Episodes: 2 | Win count: 67 | Win rate: 0.812 | time: 24.95 minutes\n",
            "Epoch: 150/999 | Loss: 0.0615 | Episodes: 35 | Win count: 68 | Win rate: 0.812 | time: 25.01 minutes\n",
            "Epoch: 151/999 | Loss: 0.2123 | Episodes: 112 | Win count: 69 | Win rate: 0.812 | time: 25.21 minutes\n",
            "Epoch: 152/999 | Loss: 0.1560 | Episodes: 72 | Win count: 70 | Win rate: 0.812 | time: 25.36 minutes\n",
            "Epoch: 153/999 | Loss: 0.1047 | Episodes: 54 | Win count: 71 | Win rate: 0.812 | time: 25.45 minutes\n",
            "Epoch: 154/999 | Loss: 0.1009 | Episodes: 50 | Win count: 72 | Win rate: 0.844 | time: 25.55 minutes\n",
            "Epoch: 155/999 | Loss: 0.2528 | Episodes: 139 | Win count: 72 | Win rate: 0.844 | time: 25.81 minutes\n",
            "Epoch: 156/999 | Loss: 0.1130 | Episodes: 67 | Win count: 73 | Win rate: 0.844 | time: 25.95 minutes\n",
            "Epoch: 157/999 | Loss: 0.0647 | Episodes: 39 | Win count: 74 | Win rate: 0.844 | time: 26.02 minutes\n",
            "Epoch: 158/999 | Loss: 0.1357 | Episodes: 76 | Win count: 75 | Win rate: 0.844 | time: 26.17 minutes\n",
            "Epoch: 159/999 | Loss: 0.0114 | Episodes: 7 | Win count: 76 | Win rate: 0.844 | time: 26.19 minutes\n",
            "Epoch: 160/999 | Loss: 0.0666 | Episodes: 39 | Win count: 77 | Win rate: 0.844 | time: 26.26 minutes\n",
            "Epoch: 161/999 | Loss: 0.1718 | Episodes: 104 | Win count: 78 | Win rate: 0.844 | time: 26.46 minutes\n",
            "Epoch: 162/999 | Loss: 0.1459 | Episodes: 86 | Win count: 79 | Win rate: 0.844 | time: 26.63 minutes\n",
            "Epoch: 163/999 | Loss: 0.0719 | Episodes: 40 | Win count: 80 | Win rate: 0.844 | time: 26.71 minutes\n",
            "Epoch: 164/999 | Loss: 0.2329 | Episodes: 117 | Win count: 81 | Win rate: 0.844 | time: 26.94 minutes\n",
            "Epoch: 165/999 | Loss: 0.1284 | Episodes: 69 | Win count: 82 | Win rate: 0.875 | time: 27.06 minutes\n",
            "Epoch: 166/999 | Loss: 0.0570 | Episodes: 26 | Win count: 83 | Win rate: 0.875 | time: 27.13 minutes\n",
            "Epoch: 167/999 | Loss: 0.2833 | Episodes: 141 | Win count: 83 | Win rate: 0.875 | time: 27.40 minutes\n",
            "Epoch: 168/999 | Loss: 0.2533 | Episodes: 144 | Win count: 83 | Win rate: 0.844 | time: 27.67 minutes\n",
            "Epoch: 169/999 | Loss: 0.0226 | Episodes: 15 | Win count: 84 | Win rate: 0.844 | time: 27.71 minutes\n",
            "Epoch: 170/999 | Loss: 0.0394 | Episodes: 24 | Win count: 85 | Win rate: 0.844 | time: 27.75 minutes\n",
            "Epoch: 171/999 | Loss: 0.0851 | Episodes: 48 | Win count: 86 | Win rate: 0.844 | time: 27.83 minutes\n",
            "Epoch: 172/999 | Loss: 0.1959 | Episodes: 138 | Win count: 86 | Win rate: 0.844 | time: 28.10 minutes\n",
            "Epoch: 173/999 | Loss: 0.0131 | Episodes: 9 | Win count: 87 | Win rate: 0.844 | time: 28.12 minutes\n",
            "Epoch: 174/999 | Loss: 0.0189 | Episodes: 16 | Win count: 88 | Win rate: 0.844 | time: 28.14 minutes\n",
            "Epoch: 175/999 | Loss: 0.0015 | Episodes: 1 | Win count: 89 | Win rate: 0.844 | time: 28.14 minutes\n",
            "Epoch: 176/999 | Loss: 0.0964 | Episodes: 68 | Win count: 90 | Win rate: 0.844 | time: 28.27 minutes\n",
            "Epoch: 177/999 | Loss: 0.0084 | Episodes: 5 | Win count: 91 | Win rate: 0.844 | time: 28.28 minutes\n",
            "Epoch: 178/999 | Loss: 0.0199 | Episodes: 14 | Win count: 92 | Win rate: 0.844 | time: 28.32 minutes\n",
            "Epoch: 179/999 | Loss: 0.0033 | Episodes: 2 | Win count: 93 | Win rate: 0.844 | time: 28.32 minutes\n",
            "Epoch: 180/999 | Loss: 0.2037 | Episodes: 138 | Win count: 93 | Win rate: 0.844 | time: 28.59 minutes\n",
            "Epoch: 181/999 | Loss: 0.0896 | Episodes: 60 | Win count: 94 | Win rate: 0.844 | time: 28.71 minutes\n",
            "Epoch: 182/999 | Loss: 0.0417 | Episodes: 27 | Win count: 95 | Win rate: 0.844 | time: 28.76 minutes\n",
            "Epoch: 183/999 | Loss: 0.2153 | Episodes: 150 | Win count: 95 | Win rate: 0.812 | time: 29.06 minutes\n",
            "Epoch: 184/999 | Loss: 0.0912 | Episodes: 55 | Win count: 96 | Win rate: 0.812 | time: 29.18 minutes\n",
            "Epoch: 185/999 | Loss: 0.0765 | Episodes: 46 | Win count: 97 | Win rate: 0.812 | time: 29.26 minutes\n",
            "Epoch: 186/999 | Loss: 0.0287 | Episodes: 19 | Win count: 98 | Win rate: 0.812 | time: 29.30 minutes\n",
            "Epoch: 187/999 | Loss: 0.1024 | Episodes: 69 | Win count: 99 | Win rate: 0.844 | time: 29.43 minutes\n",
            "Epoch: 188/999 | Loss: 0.0016 | Episodes: 1 | Win count: 100 | Win rate: 0.844 | time: 29.43 minutes\n",
            "Epoch: 189/999 | Loss: 0.0086 | Episodes: 6 | Win count: 101 | Win rate: 0.844 | time: 29.44 minutes\n",
            "Epoch: 190/999 | Loss: 0.1375 | Episodes: 79 | Win count: 102 | Win rate: 0.844 | time: 29.60 minutes\n",
            "Epoch: 191/999 | Loss: 0.0983 | Episodes: 49 | Win count: 103 | Win rate: 0.844 | time: 29.70 minutes\n",
            "Epoch: 192/999 | Loss: 0.0180 | Episodes: 9 | Win count: 104 | Win rate: 0.844 | time: 29.72 minutes\n",
            "Epoch: 193/999 | Loss: 0.2366 | Episodes: 127 | Win count: 105 | Win rate: 0.844 | time: 29.96 minutes\n",
            "Epoch: 194/999 | Loss: 0.2196 | Episodes: 110 | Win count: 106 | Win rate: 0.844 | time: 30.18 minutes\n",
            "Epoch: 195/999 | Loss: 0.1413 | Episodes: 70 | Win count: 107 | Win rate: 0.844 | time: 30.32 minutes\n",
            "Epoch: 196/999 | Loss: 0.0332 | Episodes: 17 | Win count: 108 | Win rate: 0.844 | time: 30.35 minutes\n",
            "Epoch: 197/999 | Loss: 0.0029 | Episodes: 2 | Win count: 109 | Win rate: 0.844 | time: 30.35 minutes\n",
            "Epoch: 198/999 | Loss: 0.0576 | Episodes: 30 | Win count: 110 | Win rate: 0.844 | time: 30.41 minutes\n",
            "Epoch: 199/999 | Loss: 0.1030 | Episodes: 50 | Win count: 111 | Win rate: 0.875 | time: 30.51 minutes\n",
            "Epoch: 200/999 | Loss: 0.0126 | Episodes: 6 | Win count: 112 | Win rate: 0.906 | time: 30.52 minutes\n",
            "Epoch: 201/999 | Loss: 0.0317 | Episodes: 14 | Win count: 113 | Win rate: 0.906 | time: 30.56 minutes\n",
            "Epoch: 202/999 | Loss: 0.1596 | Episodes: 75 | Win count: 114 | Win rate: 0.906 | time: 30.74 minutes\n",
            "Epoch: 203/999 | Loss: 0.1895 | Episodes: 107 | Win count: 115 | Win rate: 0.906 | time: 30.99 minutes\n",
            "Epoch: 204/999 | Loss: 0.0171 | Episodes: 10 | Win count: 116 | Win rate: 0.938 | time: 31.02 minutes\n",
            "Epoch: 205/999 | Loss: 0.0518 | Episodes: 34 | Win count: 117 | Win rate: 0.938 | time: 31.11 minutes\n",
            "Epoch: 206/999 | Loss: 0.0181 | Episodes: 12 | Win count: 118 | Win rate: 0.938 | time: 31.13 minutes\n",
            "Epoch: 207/999 | Loss: 0.0241 | Episodes: 16 | Win count: 119 | Win rate: 0.938 | time: 31.17 minutes\n",
            "Epoch: 208/999 | Loss: 0.0081 | Episodes: 6 | Win count: 120 | Win rate: 0.938 | time: 31.18 minutes\n",
            "Epoch: 209/999 | Loss: 0.0769 | Episodes: 62 | Win count: 121 | Win rate: 0.938 | time: 31.32 minutes\n",
            "Epoch: 210/999 | Loss: 0.0283 | Episodes: 21 | Win count: 122 | Win rate: 0.938 | time: 31.37 minutes\n",
            "Epoch: 211/999 | Loss: 0.0184 | Episodes: 14 | Win count: 123 | Win rate: 0.938 | time: 31.40 minutes\n",
            "Epoch: 212/999 | Loss: 0.1143 | Episodes: 131 | Win count: 123 | Win rate: 0.938 | time: 31.71 minutes\n",
            "Epoch: 213/999 | Loss: 0.0019 | Episodes: 2 | Win count: 124 | Win rate: 0.938 | time: 31.71 minutes\n",
            "Epoch: 214/999 | Loss: 0.0370 | Episodes: 60 | Win count: 125 | Win rate: 0.938 | time: 31.84 minutes\n",
            "Epoch: 215/999 | Loss: 0.0049 | Episodes: 6 | Win count: 126 | Win rate: 0.969 | time: 31.86 minutes\n",
            "Epoch: 216/999 | Loss: 0.0184 | Episodes: 25 | Win count: 127 | Win rate: 0.969 | time: 31.92 minutes\n",
            "Epoch: 217/999 | Loss: 0.0103 | Episodes: 16 | Win count: 128 | Win rate: 0.969 | time: 31.95 minutes\n",
            "Epoch: 218/999 | Loss: 0.0335 | Episodes: 41 | Win count: 129 | Win rate: 0.969 | time: 32.04 minutes\n",
            "Epoch: 219/999 | Loss: 0.0847 | Episodes: 129 | Win count: 129 | Win rate: 0.938 | time: 32.34 minutes\n",
            "Epoch: 220/999 | Loss: 0.0146 | Episodes: 29 | Win count: 130 | Win rate: 0.938 | time: 32.40 minutes\n",
            "Epoch: 221/999 | Loss: 0.0263 | Episodes: 40 | Win count: 131 | Win rate: 0.938 | time: 32.50 minutes\n",
            "Epoch: 222/999 | Loss: 0.0246 | Episodes: 43 | Win count: 132 | Win rate: 0.938 | time: 32.58 minutes\n",
            "Epoch: 223/999 | Loss: 0.0125 | Episodes: 19 | Win count: 133 | Win rate: 0.938 | time: 32.62 minutes\n",
            "Epoch: 224/999 | Loss: 0.0275 | Episodes: 47 | Win count: 134 | Win rate: 0.938 | time: 32.73 minutes\n",
            "Epoch: 225/999 | Loss: 0.0232 | Episodes: 31 | Win count: 135 | Win rate: 0.938 | time: 32.79 minutes\n",
            "Epoch: 226/999 | Loss: 0.0165 | Episodes: 22 | Win count: 136 | Win rate: 0.938 | time: 32.84 minutes\n",
            "Epoch: 227/999 | Loss: 0.0056 | Episodes: 8 | Win count: 137 | Win rate: 0.938 | time: 32.87 minutes\n",
            "Epoch: 228/999 | Loss: 0.0073 | Episodes: 10 | Win count: 138 | Win rate: 0.938 | time: 32.90 minutes\n",
            "Epoch: 229/999 | Loss: 0.0155 | Episodes: 21 | Win count: 139 | Win rate: 0.938 | time: 32.94 minutes\n",
            "Epoch: 230/999 | Loss: 0.0174 | Episodes: 25 | Win count: 140 | Win rate: 0.938 | time: 33.01 minutes\n",
            "Epoch: 231/999 | Loss: 0.0004 | Episodes: 1 | Win count: 141 | Win rate: 0.938 | time: 33.02 minutes\n",
            "Epoch: 232/999 | Loss: 0.0154 | Episodes: 25 | Win count: 142 | Win rate: 0.938 | time: 33.08 minutes\n",
            "Epoch: 233/999 | Loss: 0.0215 | Episodes: 29 | Win count: 143 | Win rate: 0.938 | time: 33.15 minutes\n",
            "Epoch: 234/999 | Loss: 0.0019 | Episodes: 2 | Win count: 144 | Win rate: 0.938 | time: 33.15 minutes\n",
            "Epoch: 235/999 | Loss: 0.0007 | Episodes: 1 | Win count: 145 | Win rate: 0.938 | time: 33.15 minutes\n",
            "Epoch: 236/999 | Loss: 0.0043 | Episodes: 5 | Win count: 146 | Win rate: 0.938 | time: 33.17 minutes\n",
            "Epoch: 237/999 | Loss: 0.0004 | Episodes: 1 | Win count: 147 | Win rate: 0.938 | time: 33.17 minutes\n",
            "Epoch: 238/999 | Loss: 0.0317 | Episodes: 40 | Win count: 148 | Win rate: 0.938 | time: 33.26 minutes\n",
            "Epoch: 239/999 | Loss: 0.0166 | Episodes: 19 | Win count: 149 | Win rate: 0.938 | time: 33.32 minutes\n",
            "Epoch: 240/999 | Loss: 0.0155 | Episodes: 22 | Win count: 150 | Win rate: 0.938 | time: 33.37 minutes\n",
            "Epoch: 241/999 | Loss: 0.0133 | Episodes: 19 | Win count: 151 | Win rate: 0.938 | time: 33.41 minutes\n",
            "Epoch: 242/999 | Loss: 0.0211 | Episodes: 25 | Win count: 152 | Win rate: 0.938 | time: 33.47 minutes\n",
            "Epoch: 243/999 | Loss: 0.0135 | Episodes: 13 | Win count: 153 | Win rate: 0.938 | time: 33.50 minutes\n",
            "Epoch: 244/999 | Loss: 0.0059 | Episodes: 7 | Win count: 154 | Win rate: 0.969 | time: 33.52 minutes\n",
            "Epoch: 245/999 | Loss: 0.0101 | Episodes: 12 | Win count: 155 | Win rate: 0.969 | time: 33.55 minutes\n",
            "Epoch: 246/999 | Loss: 0.0232 | Episodes: 25 | Win count: 156 | Win rate: 0.969 | time: 33.60 minutes\n",
            "Epoch: 247/999 | Loss: 0.0231 | Episodes: 32 | Win count: 157 | Win rate: 0.969 | time: 33.68 minutes\n",
            "Epoch: 248/999 | Loss: 0.0042 | Episodes: 7 | Win count: 158 | Win rate: 0.969 | time: 33.70 minutes\n",
            "Epoch: 249/999 | Loss: 0.0160 | Episodes: 23 | Win count: 159 | Win rate: 0.969 | time: 33.75 minutes\n",
            "Epoch: 250/999 | Loss: 0.0147 | Episodes: 23 | Win count: 160 | Win rate: 0.969 | time: 33.80 minutes\n",
            "Epoch: 251/999 | Loss: 0.0209 | Episodes: 30 | Win count: 161 | Win rate: 1.000 | time: 33.87 minutes\n",
            "Epoch: 252/999 | Loss: 0.0038 | Episodes: 7 | Win count: 162 | Win rate: 1.000 | time: 33.90 minutes\n",
            "Epoch: 253/999 | Loss: 0.0245 | Episodes: 30 | Win count: 163 | Win rate: 1.000 | time: 33.99 minutes\n",
            "Epoch: 254/999 | Loss: 0.0276 | Episodes: 33 | Win count: 164 | Win rate: 1.000 | time: 34.09 minutes\n",
            "Epoch: 255/999 | Loss: 0.0195 | Episodes: 23 | Win count: 165 | Win rate: 1.000 | time: 34.15 minutes\n",
            "Epoch: 256/999 | Loss: 0.0139 | Episodes: 19 | Win count: 166 | Win rate: 1.000 | time: 34.21 minutes\n",
            "Epoch: 257/999 | Loss: 0.0081 | Episodes: 12 | Win count: 167 | Win rate: 1.000 | time: 34.25 minutes\n",
            "Epoch: 258/999 | Loss: 0.0129 | Episodes: 21 | Win count: 168 | Win rate: 1.000 | time: 34.32 minutes\n",
            "Epoch: 259/999 | Loss: 0.0012 | Episodes: 1 | Win count: 169 | Win rate: 1.000 | time: 34.33 minutes\n",
            "Epoch: 260/999 | Loss: 0.0081 | Episodes: 14 | Win count: 170 | Win rate: 1.000 | time: 34.37 minutes\n",
            "Epoch: 261/999 | Loss: 0.0177 | Episodes: 26 | Win count: 171 | Win rate: 1.000 | time: 34.44 minutes\n",
            "Epoch: 262/999 | Loss: 0.0085 | Episodes: 14 | Win count: 172 | Win rate: 1.000 | time: 34.49 minutes\n",
            "Epoch: 263/999 | Loss: 0.0006 | Episodes: 2 | Win count: 173 | Win rate: 1.000 | time: 34.51 minutes\n",
            "Epoch: 264/999 | Loss: 0.0007 | Episodes: 1 | Win count: 174 | Win rate: 1.000 | time: 34.52 minutes\n",
            "Epoch: 265/999 | Loss: 0.0053 | Episodes: 10 | Win count: 175 | Win rate: 1.000 | time: 34.56 minutes\n",
            "Epoch: 266/999 | Loss: 0.0093 | Episodes: 15 | Win count: 176 | Win rate: 1.000 | time: 34.60 minutes\n",
            "Epoch: 267/999 | Loss: 0.0192 | Episodes: 30 | Win count: 177 | Win rate: 1.000 | time: 34.69 minutes\n",
            "Epoch: 268/999 | Loss: 0.0093 | Episodes: 15 | Win count: 178 | Win rate: 1.000 | time: 34.73 minutes\n",
            "Epoch: 269/999 | Loss: 0.0132 | Episodes: 26 | Win count: 179 | Win rate: 1.000 | time: 34.80 minutes\n",
            "Epoch: 270/999 | Loss: 0.0179 | Episodes: 30 | Win count: 180 | Win rate: 1.000 | time: 34.89 minutes\n",
            "Epoch: 271/999 | Loss: 0.0149 | Episodes: 31 | Win count: 181 | Win rate: 1.000 | time: 34.97 minutes\n",
            "Epoch: 272/999 | Loss: 0.0166 | Episodes: 29 | Win count: 182 | Win rate: 1.000 | time: 35.04 minutes\n",
            "Epoch: 273/999 | Loss: 0.0050 | Episodes: 8 | Win count: 183 | Win rate: 1.000 | time: 35.08 minutes\n",
            "Epoch: 274/999 | Loss: 0.0129 | Episodes: 28 | Win count: 184 | Win rate: 1.000 | time: 35.15 minutes\n",
            "Epoch: 275/999 | Loss: 0.0079 | Episodes: 23 | Win count: 185 | Win rate: 1.000 | time: 35.21 minutes\n",
            "Epoch: 276/999 | Loss: 0.0020 | Episodes: 5 | Win count: 186 | Win rate: 1.000 | time: 35.24 minutes\n",
            "Epoch: 277/999 | Loss: 0.0125 | Episodes: 28 | Win count: 187 | Win rate: 1.000 | time: 35.32 minutes\n",
            "Epoch: 278/999 | Loss: 0.0103 | Episodes: 29 | Win count: 188 | Win rate: 1.000 | time: 35.39 minutes\n",
            "Epoch: 279/999 | Loss: 0.0064 | Episodes: 16 | Win count: 189 | Win rate: 1.000 | time: 35.44 minutes\n",
            "Epoch: 280/999 | Loss: 0.0049 | Episodes: 21 | Win count: 190 | Win rate: 1.000 | time: 35.51 minutes\n",
            "Epoch: 281/999 | Loss: 0.0044 | Episodes: 16 | Win count: 191 | Win rate: 1.000 | time: 35.56 minutes\n",
            "Epoch: 282/999 | Loss: 0.0051 | Episodes: 24 | Win count: 192 | Win rate: 1.000 | time: 35.63 minutes\n",
            "Epoch: 283/999 | Loss: 0.0024 | Episodes: 7 | Win count: 193 | Win rate: 1.000 | time: 35.66 minutes\n",
            "Epoch: 284/999 | Loss: 0.0014 | Episodes: 5 | Win count: 194 | Win rate: 1.000 | time: 35.69 minutes\n",
            "Epoch: 285/999 | Loss: 0.0009 | Episodes: 4 | Win count: 195 | Win rate: 1.000 | time: 35.71 minutes\n",
            "Epoch: 286/999 | Loss: 0.0015 | Episodes: 7 | Win count: 196 | Win rate: 1.000 | time: 35.74 minutes\n",
            "Epoch: 287/999 | Loss: 0.0051 | Episodes: 24 | Win count: 197 | Win rate: 1.000 | time: 35.80 minutes\n",
            "Epoch: 288/999 | Loss: 0.0056 | Episodes: 19 | Win count: 198 | Win rate: 1.000 | time: 35.86 minutes\n",
            "Epoch: 289/999 | Loss: 0.0029 | Episodes: 15 | Win count: 199 | Win rate: 1.000 | time: 35.92 minutes\n",
            "Epoch: 290/999 | Loss: 0.0073 | Episodes: 24 | Win count: 200 | Win rate: 1.000 | time: 35.99 minutes\n",
            "Epoch: 291/999 | Loss: 0.0509 | Episodes: 141 | Win count: 201 | Win rate: 1.000 | time: 36.34 minutes\n",
            "Epoch: 292/999 | Loss: 0.0094 | Episodes: 28 | Win count: 202 | Win rate: 1.000 | time: 36.42 minutes\n",
            "Epoch: 293/999 | Loss: 0.0046 | Episodes: 15 | Win count: 203 | Win rate: 1.000 | time: 36.48 minutes\n",
            "Epoch: 294/999 | Loss: 0.0027 | Episodes: 10 | Win count: 204 | Win rate: 1.000 | time: 36.51 minutes\n",
            "Epoch: 295/999 | Loss: 0.0010 | Episodes: 3 | Win count: 205 | Win rate: 1.000 | time: 36.53 minutes\n",
            "Epoch: 296/999 | Loss: 0.0082 | Episodes: 31 | Win count: 206 | Win rate: 1.000 | time: 36.61 minutes\n",
            "Epoch: 297/999 | Loss: 0.0080 | Episodes: 27 | Win count: 207 | Win rate: 1.000 | time: 36.75 minutes\n",
            "Epoch: 298/999 | Loss: 0.0005 | Episodes: 3 | Win count: 208 | Win rate: 1.000 | time: 36.77 minutes\n",
            "Epoch: 299/999 | Loss: 0.0091 | Episodes: 31 | Win count: 209 | Win rate: 1.000 | time: 36.91 minutes\n",
            "Epoch: 300/999 | Loss: 0.0088 | Episodes: 25 | Win count: 210 | Win rate: 1.000 | time: 36.98 minutes\n",
            "Epoch: 301/999 | Loss: 0.0024 | Episodes: 7 | Win count: 211 | Win rate: 1.000 | time: 37.00 minutes\n",
            "Epoch: 302/999 | Loss: 0.0056 | Episodes: 24 | Win count: 212 | Win rate: 1.000 | time: 37.08 minutes\n",
            "Epoch: 303/999 | Loss: 0.0005 | Episodes: 3 | Win count: 213 | Win rate: 1.000 | time: 37.10 minutes\n",
            "Epoch: 304/999 | Loss: 0.0062 | Episodes: 23 | Win count: 214 | Win rate: 1.000 | time: 37.16 minutes\n",
            "Epoch: 305/999 | Loss: 0.0103 | Episodes: 27 | Win count: 215 | Win rate: 1.000 | time: 37.23 minutes\n",
            "Epoch: 306/999 | Loss: 0.0067 | Episodes: 22 | Win count: 216 | Win rate: 1.000 | time: 37.34 minutes\n",
            "Epoch: 307/999 | Loss: 0.0022 | Episodes: 9 | Win count: 217 | Win rate: 1.000 | time: 37.42 minutes\n",
            "Epoch: 308/999 | Loss: 0.0024 | Episodes: 7 | Win count: 218 | Win rate: 1.000 | time: 37.52 minutes\n",
            "Epoch: 309/999 | Loss: 0.0066 | Episodes: 21 | Win count: 219 | Win rate: 1.000 | time: 37.57 minutes\n",
            "Epoch: 310/999 | Loss: 0.0028 | Episodes: 11 | Win count: 220 | Win rate: 1.000 | time: 37.68 minutes\n",
            "Epoch: 311/999 | Loss: 0.0019 | Episodes: 8 | Win count: 221 | Win rate: 1.000 | time: 37.71 minutes\n",
            "Epoch: 312/999 | Loss: 0.0177 | Episodes: 36 | Win count: 222 | Win rate: 1.000 | time: 37.84 minutes\n",
            "Epoch: 313/999 | Loss: 0.0007 | Episodes: 2 | Win count: 223 | Win rate: 1.000 | time: 37.86 minutes\n",
            "Epoch: 314/999 | Loss: 0.0029 | Episodes: 9 | Win count: 224 | Win rate: 1.000 | time: 37.90 minutes\n",
            "Epoch: 315/999 | Loss: 0.0109 | Episodes: 19 | Win count: 225 | Win rate: 1.000 | time: 37.95 minutes\n",
            "Epoch: 316/999 | Loss: 0.0087 | Episodes: 16 | Win count: 226 | Win rate: 1.000 | time: 38.00 minutes\n",
            "Epoch: 317/999 | Loss: 0.0063 | Episodes: 13 | Win count: 227 | Win rate: 1.000 | time: 38.04 minutes\n",
            "Epoch: 318/999 | Loss: 0.0120 | Episodes: 23 | Win count: 228 | Win rate: 1.000 | time: 38.11 minutes\n",
            "Epoch: 319/999 | Loss: 0.0014 | Episodes: 3 | Win count: 229 | Win rate: 1.000 | time: 38.17 minutes\n",
            "Epoch: 320/999 | Loss: 0.0019 | Episodes: 6 | Win count: 230 | Win rate: 1.000 | time: 38.24 minutes\n",
            "Epoch: 321/999 | Loss: 0.0108 | Episodes: 22 | Win count: 231 | Win rate: 1.000 | time: 38.36 minutes\n",
            "Epoch: 322/999 | Loss: 0.0007 | Episodes: 3 | Win count: 232 | Win rate: 1.000 | time: 38.38 minutes\n",
            "Epoch: 323/999 | Loss: 0.0022 | Episodes: 9 | Win count: 233 | Win rate: 1.000 | time: 38.41 minutes\n",
            "Epoch: 324/999 | Loss: 0.0031 | Episodes: 8 | Win count: 234 | Win rate: 1.000 | time: 38.51 minutes\n",
            "Epoch: 325/999 | Loss: 0.0003 | Episodes: 1 | Win count: 235 | Win rate: 1.000 | time: 38.58 minutes\n",
            "Epoch: 326/999 | Loss: 0.0036 | Episodes: 10 | Win count: 236 | Win rate: 1.000 | time: 38.67 minutes\n",
            "Epoch: 327/999 | Loss: 0.0088 | Episodes: 24 | Win count: 237 | Win rate: 1.000 | time: 38.78 minutes\n",
            "Epoch: 328/999 | Loss: 0.0069 | Episodes: 19 | Win count: 238 | Win rate: 1.000 | time: 38.91 minutes\n",
            "Epoch: 329/999 | Loss: 0.0088 | Episodes: 15 | Win count: 239 | Win rate: 1.000 | time: 39.00 minutes\n",
            "Epoch: 330/999 | Loss: 0.0073 | Episodes: 13 | Win count: 240 | Win rate: 1.000 | time: 39.10 minutes\n",
            "Epoch: 331/999 | Loss: 0.0131 | Episodes: 33 | Win count: 241 | Win rate: 1.000 | time: 39.25 minutes\n",
            "Epoch: 332/999 | Loss: 0.0033 | Episodes: 11 | Win count: 242 | Win rate: 1.000 | time: 39.35 minutes\n",
            "Epoch: 333/999 | Loss: 0.0050 | Episodes: 17 | Win count: 243 | Win rate: 1.000 | time: 39.40 minutes\n",
            "Epoch: 334/999 | Loss: 0.0024 | Episodes: 11 | Win count: 244 | Win rate: 1.000 | time: 39.48 minutes\n",
            "Epoch: 335/999 | Loss: 0.0100 | Episodes: 27 | Win count: 245 | Win rate: 1.000 | time: 39.55 minutes\n",
            "Epoch: 336/999 | Loss: 0.0111 | Episodes: 25 | Win count: 246 | Win rate: 1.000 | time: 39.66 minutes\n",
            "Epoch: 337/999 | Loss: 0.0076 | Episodes: 19 | Win count: 247 | Win rate: 1.000 | time: 39.72 minutes\n",
            "Epoch: 338/999 | Loss: 0.0057 | Episodes: 18 | Win count: 248 | Win rate: 1.000 | time: 39.82 minutes\n",
            "Epoch: 339/999 | Loss: 0.0048 | Episodes: 15 | Win count: 249 | Win rate: 1.000 | time: 39.86 minutes\n",
            "Epoch: 340/999 | Loss: 0.0071 | Episodes: 23 | Win count: 250 | Win rate: 1.000 | time: 39.93 minutes\n",
            "Epoch: 341/999 | Loss: 0.0017 | Episodes: 5 | Win count: 251 | Win rate: 1.000 | time: 39.96 minutes\n",
            "Epoch: 342/999 | Loss: 0.0230 | Episodes: 35 | Win count: 252 | Win rate: 1.000 | time: 40.05 minutes\n",
            "Epoch: 343/999 | Loss: 0.0035 | Episodes: 6 | Win count: 253 | Win rate: 1.000 | time: 40.08 minutes\n",
            "Epoch: 344/999 | Loss: 0.0021 | Episodes: 4 | Win count: 254 | Win rate: 1.000 | time: 40.11 minutes\n",
            "Epoch: 345/999 | Loss: 0.0073 | Episodes: 11 | Win count: 255 | Win rate: 1.000 | time: 40.18 minutes\n",
            "Epoch: 346/999 | Loss: 0.0008 | Episodes: 2 | Win count: 256 | Win rate: 1.000 | time: 40.20 minutes\n",
            "Epoch: 347/999 | Loss: 0.0005 | Episodes: 1 | Win count: 257 | Win rate: 1.000 | time: 40.21 minutes\n",
            "Epoch: 348/999 | Loss: 0.0025 | Episodes: 7 | Win count: 258 | Win rate: 1.000 | time: 40.24 minutes\n",
            "Epoch: 349/999 | Loss: 0.0315 | Episodes: 53 | Win count: 259 | Win rate: 1.000 | time: 40.38 minutes\n",
            "Epoch: 350/999 | Loss: 0.0051 | Episodes: 7 | Win count: 260 | Win rate: 1.000 | time: 40.41 minutes\n",
            "Epoch: 351/999 | Loss: 0.0020 | Episodes: 4 | Win count: 261 | Win rate: 1.000 | time: 40.43 minutes\n",
            "Epoch: 352/999 | Loss: 0.0168 | Episodes: 27 | Win count: 262 | Win rate: 1.000 | time: 40.52 minutes\n",
            "Epoch: 353/999 | Loss: 0.0077 | Episodes: 9 | Win count: 263 | Win rate: 1.000 | time: 40.55 minutes\n",
            "Epoch: 354/999 | Loss: 0.0104 | Episodes: 20 | Win count: 264 | Win rate: 1.000 | time: 40.60 minutes\n",
            "Epoch: 355/999 | Loss: 0.0045 | Episodes: 7 | Win count: 265 | Win rate: 1.000 | time: 40.63 minutes\n",
            "Epoch: 356/999 | Loss: 0.0021 | Episodes: 4 | Win count: 266 | Win rate: 1.000 | time: 40.65 minutes\n",
            "Epoch: 357/999 | Loss: 0.0499 | Episodes: 63 | Win count: 267 | Win rate: 1.000 | time: 40.81 minutes\n",
            "Epoch: 358/999 | Loss: 0.0189 | Episodes: 24 | Win count: 268 | Win rate: 1.000 | time: 40.89 minutes\n",
            "Epoch: 359/999 | Loss: 0.0360 | Episodes: 57 | Win count: 269 | Win rate: 1.000 | time: 41.03 minutes\n",
            "Epoch: 360/999 | Loss: 0.0179 | Episodes: 22 | Win count: 270 | Win rate: 1.000 | time: 41.10 minutes\n",
            "Epoch: 361/999 | Loss: 0.0092 | Episodes: 15 | Win count: 271 | Win rate: 1.000 | time: 41.15 minutes\n",
            "Epoch: 362/999 | Loss: 0.0155 | Episodes: 24 | Win count: 272 | Win rate: 1.000 | time: 41.21 minutes\n",
            "Epoch: 363/999 | Loss: 0.0172 | Episodes: 25 | Win count: 273 | Win rate: 1.000 | time: 41.29 minutes\n",
            "Epoch: 364/999 | Loss: 0.0331 | Episodes: 40 | Win count: 274 | Win rate: 1.000 | time: 41.39 minutes\n",
            "Epoch: 365/999 | Loss: 0.0132 | Episodes: 17 | Win count: 275 | Win rate: 1.000 | time: 41.43 minutes\n",
            "Epoch: 366/999 | Loss: 0.0304 | Episodes: 40 | Win count: 276 | Win rate: 1.000 | time: 41.54 minutes\n",
            "Epoch: 367/999 | Loss: 0.0106 | Episodes: 12 | Win count: 277 | Win rate: 1.000 | time: 41.58 minutes\n",
            "Epoch: 368/999 | Loss: 0.0301 | Episodes: 39 | Win count: 278 | Win rate: 1.000 | time: 41.69 minutes\n",
            "Epoch: 369/999 | Loss: 0.0071 | Episodes: 9 | Win count: 279 | Win rate: 1.000 | time: 41.72 minutes\n",
            "Epoch: 370/999 | Loss: 0.0067 | Episodes: 8 | Win count: 280 | Win rate: 1.000 | time: 41.75 minutes\n",
            "Epoch: 371/999 | Loss: 0.0116 | Episodes: 15 | Win count: 281 | Win rate: 1.000 | time: 41.80 minutes\n",
            "Epoch: 372/999 | Loss: 0.0334 | Episodes: 39 | Win count: 282 | Win rate: 1.000 | time: 41.91 minutes\n",
            "Epoch: 373/999 | Loss: 0.0130 | Episodes: 14 | Win count: 283 | Win rate: 1.000 | time: 41.95 minutes\n",
            "Epoch: 374/999 | Loss: 0.0201 | Episodes: 28 | Win count: 284 | Win rate: 1.000 | time: 42.02 minutes\n",
            "Epoch: 375/999 | Loss: 0.0148 | Episodes: 24 | Win count: 285 | Win rate: 1.000 | time: 42.10 minutes\n",
            "Epoch: 376/999 | Loss: 0.0105 | Episodes: 22 | Win count: 286 | Win rate: 1.000 | time: 42.16 minutes\n",
            "Epoch: 377/999 | Loss: 0.0179 | Episodes: 32 | Win count: 287 | Win rate: 1.000 | time: 42.24 minutes\n",
            "Epoch: 378/999 | Loss: 0.0183 | Episodes: 34 | Win count: 288 | Win rate: 1.000 | time: 42.33 minutes\n",
            "Epoch: 379/999 | Loss: 0.0053 | Episodes: 7 | Win count: 289 | Win rate: 1.000 | time: 42.36 minutes\n",
            "Epoch: 380/999 | Loss: 0.0123 | Episodes: 24 | Win count: 290 | Win rate: 1.000 | time: 42.42 minutes\n",
            "Epoch: 381/999 | Loss: 0.0118 | Episodes: 20 | Win count: 291 | Win rate: 1.000 | time: 42.49 minutes\n",
            "Epoch: 382/999 | Loss: 0.0191 | Episodes: 33 | Win count: 292 | Win rate: 1.000 | time: 42.57 minutes\n",
            "Epoch: 383/999 | Loss: 0.0006 | Episodes: 1 | Win count: 293 | Win rate: 1.000 | time: 42.58 minutes\n",
            "Epoch: 384/999 | Loss: 0.0169 | Episodes: 25 | Win count: 294 | Win rate: 1.000 | time: 42.64 minutes\n",
            "Epoch: 385/999 | Loss: 0.0056 | Episodes: 9 | Win count: 295 | Win rate: 1.000 | time: 42.69 minutes\n",
            "Epoch: 386/999 | Loss: 0.0128 | Episodes: 26 | Win count: 296 | Win rate: 1.000 | time: 42.75 minutes\n",
            "Epoch: 387/999 | Loss: 0.0129 | Episodes: 25 | Win count: 297 | Win rate: 1.000 | time: 42.83 minutes\n",
            "Epoch: 388/999 | Loss: 0.0149 | Episodes: 32 | Win count: 298 | Win rate: 1.000 | time: 42.92 minutes\n",
            "Epoch: 389/999 | Loss: 0.0146 | Episodes: 31 | Win count: 299 | Win rate: 1.000 | time: 43.00 minutes\n",
            "Epoch: 390/999 | Loss: 0.0028 | Episodes: 6 | Win count: 300 | Win rate: 1.000 | time: 43.02 minutes\n",
            "Epoch: 391/999 | Loss: 0.0084 | Episodes: 14 | Win count: 301 | Win rate: 1.000 | time: 43.08 minutes\n",
            "Epoch: 392/999 | Loss: 0.0021 | Episodes: 6 | Win count: 302 | Win rate: 1.000 | time: 43.11 minutes\n",
            "Epoch: 393/999 | Loss: 0.0048 | Episodes: 11 | Win count: 303 | Win rate: 1.000 | time: 43.14 minutes\n",
            "Epoch: 394/999 | Loss: 0.0150 | Episodes: 32 | Win count: 304 | Win rate: 1.000 | time: 43.23 minutes\n",
            "Epoch: 395/999 | Loss: 0.0040 | Episodes: 6 | Win count: 305 | Win rate: 1.000 | time: 43.26 minutes\n",
            "Epoch: 396/999 | Loss: 0.0118 | Episodes: 28 | Win count: 306 | Win rate: 1.000 | time: 43.34 minutes\n",
            "Epoch: 397/999 | Loss: 0.0016 | Episodes: 6 | Win count: 307 | Win rate: 1.000 | time: 43.36 minutes\n",
            "Epoch: 398/999 | Loss: 0.0057 | Episodes: 20 | Win count: 308 | Win rate: 1.000 | time: 43.42 minutes\n",
            "Epoch: 399/999 | Loss: 0.0102 | Episodes: 26 | Win count: 309 | Win rate: 1.000 | time: 43.50 minutes\n",
            "Epoch: 400/999 | Loss: 0.0035 | Episodes: 11 | Win count: 310 | Win rate: 1.000 | time: 43.53 minutes\n",
            "Epoch: 401/999 | Loss: 0.0160 | Episodes: 35 | Win count: 311 | Win rate: 1.000 | time: 43.62 minutes\n",
            "Epoch: 402/999 | Loss: 0.0146 | Episodes: 26 | Win count: 312 | Win rate: 1.000 | time: 43.70 minutes\n",
            "Epoch: 403/999 | Loss: 0.0028 | Episodes: 6 | Win count: 313 | Win rate: 1.000 | time: 43.78 minutes\n",
            "Epoch: 404/999 | Loss: 0.0153 | Episodes: 33 | Win count: 314 | Win rate: 1.000 | time: 43.93 minutes\n",
            "Epoch: 405/999 | Loss: 0.0141 | Episodes: 31 | Win count: 315 | Win rate: 1.000 | time: 44.01 minutes\n",
            "Epoch: 406/999 | Loss: 0.0021 | Episodes: 8 | Win count: 316 | Win rate: 1.000 | time: 44.04 minutes\n",
            "Epoch: 407/999 | Loss: 0.0069 | Episodes: 14 | Win count: 317 | Win rate: 1.000 | time: 44.09 minutes\n",
            "Epoch: 408/999 | Loss: 0.0088 | Episodes: 14 | Win count: 318 | Win rate: 1.000 | time: 44.14 minutes\n",
            "Epoch: 409/999 | Loss: 0.0157 | Episodes: 36 | Win count: 319 | Win rate: 1.000 | time: 44.22 minutes\n",
            "Epoch: 410/999 | Loss: 0.0147 | Episodes: 31 | Win count: 320 | Win rate: 1.000 | time: 44.31 minutes\n",
            "Epoch: 411/999 | Loss: 0.0393 | Episodes: 52 | Win count: 321 | Win rate: 1.000 | time: 44.44 minutes\n",
            "Epoch: 412/999 | Loss: 0.0241 | Episodes: 32 | Win count: 322 | Win rate: 1.000 | time: 44.53 minutes\n",
            "Epoch: 413/999 | Loss: 0.0305 | Episodes: 41 | Win count: 323 | Win rate: 1.000 | time: 44.63 minutes\n",
            "Epoch: 414/999 | Loss: 0.0102 | Episodes: 17 | Win count: 324 | Win rate: 1.000 | time: 44.69 minutes\n",
            "Epoch: 415/999 | Loss: 0.0063 | Episodes: 8 | Win count: 325 | Win rate: 1.000 | time: 44.72 minutes\n",
            "Epoch: 416/999 | Loss: 0.0121 | Episodes: 19 | Win count: 326 | Win rate: 1.000 | time: 44.78 minutes\n",
            "Epoch: 417/999 | Loss: 0.0094 | Episodes: 15 | Win count: 327 | Win rate: 1.000 | time: 44.83 minutes\n",
            "Epoch: 418/999 | Loss: 0.0006 | Episodes: 2 | Win count: 328 | Win rate: 1.000 | time: 44.84 minutes\n",
            "Epoch: 419/999 | Loss: 0.0179 | Episodes: 30 | Win count: 329 | Win rate: 1.000 | time: 44.93 minutes\n",
            "Epoch: 420/999 | Loss: 0.0134 | Episodes: 19 | Win count: 330 | Win rate: 1.000 | time: 44.98 minutes\n",
            "Epoch: 421/999 | Loss: 0.0143 | Episodes: 26 | Win count: 331 | Win rate: 1.000 | time: 45.06 minutes\n",
            "Epoch: 422/999 | Loss: 0.0135 | Episodes: 16 | Win count: 332 | Win rate: 1.000 | time: 45.11 minutes\n",
            "Epoch: 423/999 | Loss: 0.0024 | Episodes: 3 | Win count: 333 | Win rate: 1.000 | time: 45.13 minutes\n",
            "Epoch: 424/999 | Loss: 0.0043 | Episodes: 5 | Win count: 334 | Win rate: 1.000 | time: 45.15 minutes\n",
            "Epoch: 425/999 | Loss: 0.0145 | Episodes: 21 | Win count: 335 | Win rate: 1.000 | time: 45.21 minutes\n",
            "Epoch: 426/999 | Loss: 0.0189 | Episodes: 31 | Win count: 336 | Win rate: 1.000 | time: 45.29 minutes\n",
            "Epoch: 427/999 | Loss: 0.0520 | Episodes: 66 | Win count: 337 | Win rate: 1.000 | time: 45.44 minutes\n",
            "Epoch: 428/999 | Loss: 0.0190 | Episodes: 27 | Win count: 338 | Win rate: 1.000 | time: 45.52 minutes\n",
            "Epoch: 429/999 | Loss: 0.0148 | Episodes: 24 | Win count: 339 | Win rate: 1.000 | time: 45.58 minutes\n",
            "Epoch: 430/999 | Loss: 0.0009 | Episodes: 1 | Win count: 340 | Win rate: 1.000 | time: 45.64 minutes\n",
            "Epoch: 431/999 | Loss: 0.0036 | Episodes: 9 | Win count: 341 | Win rate: 1.000 | time: 45.68 minutes\n",
            "Epoch: 432/999 | Loss: 0.0174 | Episodes: 26 | Win count: 342 | Win rate: 1.000 | time: 45.78 minutes\n",
            "Epoch: 433/999 | Loss: 0.0023 | Episodes: 3 | Win count: 343 | Win rate: 1.000 | time: 45.80 minutes\n",
            "Epoch: 434/999 | Loss: 0.0136 | Episodes: 23 | Win count: 344 | Win rate: 1.000 | time: 45.87 minutes\n",
            "Epoch: 435/999 | Loss: 0.0035 | Episodes: 7 | Win count: 345 | Win rate: 1.000 | time: 45.90 minutes\n",
            "Epoch: 436/999 | Loss: 0.0224 | Episodes: 48 | Win count: 346 | Win rate: 1.000 | time: 46.02 minutes\n",
            "Epoch: 437/999 | Loss: 0.0013 | Episodes: 4 | Win count: 347 | Win rate: 1.000 | time: 46.09 minutes\n",
            "Epoch: 438/999 | Loss: 0.0059 | Episodes: 18 | Win count: 348 | Win rate: 1.000 | time: 46.17 minutes\n",
            "Epoch: 439/999 | Loss: 0.0101 | Episodes: 27 | Win count: 349 | Win rate: 1.000 | time: 46.24 minutes\n",
            "Epoch: 440/999 | Loss: 0.0073 | Episodes: 21 | Win count: 350 | Win rate: 1.000 | time: 46.36 minutes\n",
            "Epoch: 441/999 | Loss: 0.0078 | Episodes: 21 | Win count: 351 | Win rate: 1.000 | time: 46.48 minutes\n",
            "Epoch: 442/999 | Loss: 0.0031 | Episodes: 5 | Win count: 352 | Win rate: 1.000 | time: 46.56 minutes\n",
            "Reached 100% win rate at epoch 442\n",
            "Training complete in: 46.63 minutes\n"
          ]
        }
      ]
    },
    {
      "cell_type": "markdown",
      "source": [
        "This cell will check to see if the model passes the completion check. Note: This could take several minutes."
      ],
      "metadata": {
        "id": "dkn92knjDjp1"
      }
    },
    {
      "cell_type": "code",
      "source": [
        "completion_check(model, qmaze)\n",
        "show(qmaze)"
      ],
      "metadata": {
        "colab": {
          "base_uri": "https://localhost:8080/",
          "height": 428
        },
        "id": "S--mz_sb2PEL",
        "outputId": "fe0d8367-24ca-4569-d946-492eafa92188"
      },
      "execution_count": 14,
      "outputs": [
        {
          "output_type": "execute_result",
          "data": {
            "text/plain": [
              "<matplotlib.image.AxesImage at 0x7d3af1e1c080>"
            ]
          },
          "metadata": {},
          "execution_count": 14
        },
        {
          "output_type": "display_data",
          "data": {
            "text/plain": [
              "<Figure size 640x480 with 1 Axes>"
            ],
            "image/png": "[encoded data removed]"
          },
          "metadata": {}
        }
      ]
    },
    {
      "cell_type": "markdown",
      "source": [
        "This cell will test your model for one game. It will start the pirate at the top-left corner and run play_game(). The agent should find a path from the starting position to the target (treasure). The treasure is located in the bottom-right corner."
      ],
      "metadata": {
        "id": "M7hFI2OfDlcl"
      }
    },
    {
      "cell_type": "code",
      "source": [
        "pirate_start = (0, 0)\n",
        "play_game(model, qmaze, pirate_start)\n",
        "show(qmaze)"
      ],
      "metadata": {
        "colab": {
          "base_uri": "https://localhost:8080/",
          "height": 428
        },
        "id": "3xyfufFB2RH0",
        "outputId": "181a3c15-cd2a-453f-e253-8804b13b3d7c"
      },
      "execution_count": 15,
      "outputs": [
        {
          "output_type": "execute_result",
          "data": {
            "text/plain": [
              "<matplotlib.image.AxesImage at 0x7d3b70348530>"
            ]
          },
          "metadata": {},
          "execution_count": 15
        },
        {
          "output_type": "display_data",
          "data": {
            "text/plain": [
              "<Figure size 640x480 with 1 Axes>"
            ],
            "image/png": "[encoded data removed]"
          },
          "metadata": {}
        }
      ]
    },
    {
      "cell_type": "markdown",
      "source": [
        "# **Save and Submit Your Work**\n",
        "After you have finished creating the code for your notebook, save your work. Make sure that your notebook contains your name in the filename (e.g. Doe_Jane_ProjectTwo.html). Download this file as an .html file clicking on file in Jupyter Notebook, navigating down to Download as and clicking on .html. Download a copy of your .html file and submit it to Brightspace."
      ],
      "metadata": {
        "id": "ss9AjzqrDn9Y"
      }
    }
  ]
}